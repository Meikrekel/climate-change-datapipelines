{
  "cells": [
    {
      "cell_type": "code",
      "execution_count": 13,
      "metadata": {
        "collapsed": true,
        "pycharm": {
          "is_executing": false
        }
      },
      "outputs": [],
      "source": "from datapackage import Package"
    },
    {
      "cell_type": "code",
      "execution_count": 14,
      "outputs": [],
      "source": "package \u003d Package(\u0027https://datahub.io/core/sea-level-rise/datapackage.json\u0027)",
      "metadata": {
        "pycharm": {
          "metadata": false,
          "name": "#%%\n",
          "is_executing": false
        }
      }
    },
    {
      "cell_type": "code",
      "execution_count": 3,
      "outputs": [
        {
          "name": "stdout",
          "text": [
            "validation_report\ncsiro_alt_gmsl_mo_2015_csv\ncsiro_alt_gmsl_yr_2015_csv\ncsiro_recons_gmsl_mo_2015_csv\ncsiro_recons_gmsl_yr_2015_csv\nepa-sea-level_csv\ncsiro_alt_gmsl_mo_2015_json\ncsiro_alt_gmsl_yr_2015_json\ncsiro_recons_gmsl_mo_2015_json\ncsiro_recons_gmsl_yr_2015_json\nepa-sea-level_json\nsea-level-rise_zip\ncsiro_alt_gmsl_mo_2015\ncsiro_alt_gmsl_yr_2015\ncsiro_recons_gmsl_mo_2015\ncsiro_recons_gmsl_yr_2015\nepa-sea-level\n"
          ],
          "output_type": "stream"
        }
      ],
      "source": "for resource in package.resource_names:\n    print(resource)",
      "metadata": {
        "pycharm": {
          "metadata": false,
          "name": "#%%\n",
          "is_executing": false
        }
      }
    },
    {
      "cell_type": "code",
      "execution_count": 4,
      "outputs": [],
      "source": "sea_level_resource \u003d package.get_resource(\u0027csiro_recons_gmsl_mo_2015_csv\u0027) ",
      "metadata": {
        "pycharm": {
          "metadata": false,
          "name": "#%%\n",
          "is_executing": false
        }
      }
    },
    {
      "cell_type": "code",
      "execution_count": 5,
      "outputs": [],
      "source": "sea_level_data \u003d sea_level_resource.read()",
      "metadata": {
        "pycharm": {
          "metadata": false,
          "name": "#%%\n",
          "is_executing": false
        }
      }
    },
    {
      "cell_type": "code",
      "execution_count": 6,
      "outputs": [],
      "source": "import pandas as pd\ndf \u003d pd.DataFrame(sea_level_data)",
      "metadata": {
        "pycharm": {
          "metadata": false,
          "name": "#%%\n",
          "is_executing": false
        }
      }
    },
    {
      "cell_type": "code",
      "execution_count": 7,
      "outputs": [
        {
          "data": {
            "text/plain": "         date global_mean_sea_level uncertainty\n0  1880-01-15                -183.0        24.2\n1  1880-02-15                -171.1        24.2\n2  1880-03-15                -164.3        24.2\n3  1880-04-15                -158.2        24.2\n4  1880-05-15                -158.7        24.2",
            "text/html": "\u003cdiv\u003e\n\u003cstyle scoped\u003e\n    .dataframe tbody tr th:only-of-type {\n        vertical-align: middle;\n    }\n\n    .dataframe tbody tr th {\n        vertical-align: top;\n    }\n\n    .dataframe thead th {\n        text-align: right;\n    }\n\u003c/style\u003e\n\u003ctable border\u003d\"1\" class\u003d\"dataframe\"\u003e\n  \u003cthead\u003e\n    \u003ctr style\u003d\"text-align: right;\"\u003e\n      \u003cth\u003e\u003c/th\u003e\n      \u003cth\u003edate\u003c/th\u003e\n      \u003cth\u003eglobal_mean_sea_level\u003c/th\u003e\n      \u003cth\u003euncertainty\u003c/th\u003e\n    \u003c/tr\u003e\n  \u003c/thead\u003e\n  \u003ctbody\u003e\n    \u003ctr\u003e\n      \u003cth\u003e0\u003c/th\u003e\n      \u003ctd\u003e1880-01-15\u003c/td\u003e\n      \u003ctd\u003e-183.0\u003c/td\u003e\n      \u003ctd\u003e24.2\u003c/td\u003e\n    \u003c/tr\u003e\n    \u003ctr\u003e\n      \u003cth\u003e1\u003c/th\u003e\n      \u003ctd\u003e1880-02-15\u003c/td\u003e\n      \u003ctd\u003e-171.1\u003c/td\u003e\n      \u003ctd\u003e24.2\u003c/td\u003e\n    \u003c/tr\u003e\n    \u003ctr\u003e\n      \u003cth\u003e2\u003c/th\u003e\n      \u003ctd\u003e1880-03-15\u003c/td\u003e\n      \u003ctd\u003e-164.3\u003c/td\u003e\n      \u003ctd\u003e24.2\u003c/td\u003e\n    \u003c/tr\u003e\n    \u003ctr\u003e\n      \u003cth\u003e3\u003c/th\u003e\n      \u003ctd\u003e1880-04-15\u003c/td\u003e\n      \u003ctd\u003e-158.2\u003c/td\u003e\n      \u003ctd\u003e24.2\u003c/td\u003e\n    \u003c/tr\u003e\n    \u003ctr\u003e\n      \u003cth\u003e4\u003c/th\u003e\n      \u003ctd\u003e1880-05-15\u003c/td\u003e\n      \u003ctd\u003e-158.7\u003c/td\u003e\n      \u003ctd\u003e24.2\u003c/td\u003e\n    \u003c/tr\u003e\n  \u003c/tbody\u003e\n\u003c/table\u003e\n\u003c/div\u003e"
          },
          "metadata": {},
          "output_type": "execute_result",
          "execution_count": 7
        }
      ],
      "source": "df.columns \u003d [\u0027date\u0027, \u0027global_mean_sea_level\u0027, \u0027uncertainty\u0027]\ndf.head()",
      "metadata": {
        "pycharm": {
          "metadata": false,
          "name": "#%%\n",
          "is_executing": false
        }
      }
    },
    {
      "cell_type": "code",
      "execution_count": 8,
      "outputs": [
        {
          "name": "stdout",
          "text": [
            "\u003cclass \u0027pandas.core.frame.DataFrame\u0027\u003e\nRangeIndex: 1608 entries, 0 to 1607\nData columns (total 3 columns):\ndate                     1608 non-null object\nglobal_mean_sea_level    1608 non-null object\nuncertainty              1608 non-null object\ndtypes: object(3)\nmemory usage: 37.8+ KB\n"
          ],
          "output_type": "stream"
        }
      ],
      "source": "df.info()",
      "metadata": {
        "pycharm": {
          "metadata": false,
          "name": "#%%\n",
          "is_executing": false
        }
      }
    },
    {
      "cell_type": "code",
      "execution_count": 9,
      "outputs": [
        {
          "name": "stdout",
          "text": [
            "\u003cclass \u0027pandas.core.frame.DataFrame\u0027\u003e\nRangeIndex: 1608 entries, 0 to 1607\nData columns (total 3 columns):\ndate                     1608 non-null datetime64[ns]\nglobal_mean_sea_level    1608 non-null float64\nuncertainty              1608 non-null float64\ndtypes: datetime64[ns](1), float64(2)\nmemory usage: 37.8 KB\n"
          ],
          "output_type": "stream"
        }
      ],
      "source": "df[\u0027date\u0027] \u003d pd.to_datetime(df[\u0027date\u0027])\ndf[\u0027global_mean_sea_level\u0027] \u003d pd.to_numeric(df[\u0027global_mean_sea_level\u0027])\ndf[\u0027uncertainty\u0027] \u003d pd.to_numeric(df[\u0027uncertainty\u0027])\ndf.info()",
      "metadata": {
        "pycharm": {
          "metadata": false,
          "name": "#%%\n",
          "is_executing": false
        }
      }
    },
    {
      "cell_type": "code",
      "execution_count": 12,
      "outputs": [
        {
          "data": {
            "text/plain": "\u003cmatplotlib.figure.Figure at 0x11c98bda0\u003e",
            "image/png": "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\u003d\u003d\n"
          },
          "metadata": {
            "needs_background": "light"
          },
          "output_type": "display_data"
        }
      ],
      "source": "import matplotlib.pyplot as plt\nax \u003d plt.gca()\ndf.plot(subplots\u003dTrue, kind\u003d\u0027line\u0027, x\u003d\u0027date\u0027, y\u003d\u0027global_mean_sea_level\u0027, ax\u003dax, linewidth\u003d0.5)\n# plt.show()\nplt.savefig(\u0027sea_level_rise.png\u0027, bbox_inches\u003d\u0027tight\u0027)",
      "metadata": {
        "pycharm": {
          "metadata": false,
          "name": "#%%\n",
          "is_executing": false
        }
      }
    },
    {
      "cell_type": "code",
      "execution_count": null,
      "outputs": [],
      "source": "\n",
      "metadata": {
        "pycharm": {
          "metadata": false,
          "name": "#%%\n"
        }
      }
    }
  ],
  "metadata": {
    "language_info": {
      "codemirror_mode": {
        "name": "ipython",
        "version": 2
      },
      "file_extension": ".py",
      "mimetype": "text/x-python",
      "name": "python",
      "nbconvert_exporter": "python",
      "pygments_lexer": "ipython2",
      "version": "2.7.6"
    },
    "kernelspec": {
      "name": "python3",
      "language": "python",
      "display_name": "Python 3"
    }
  },
  "nbformat": 4,
  "nbformat_minor": 0
}