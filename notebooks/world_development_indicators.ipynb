{
  "cells": [
    {
      "cell_type": "code",
      "execution_count": 1,
      "metadata": {
        "collapsed": true,
        "pycharm": {
          "is_executing": false
        }
      },
      "outputs": [],
      "source": "import pandas as pd"
    },
    {
      "cell_type": "code",
      "execution_count": 2,
      "outputs": [],
      "source": "df_indicators \u003d pd.read_csv(\"../data/Indicators.csv\", nrows\u003d10000)",
      "metadata": {
        "pycharm": {
          "metadata": false,
          "name": "#%%\n",
          "is_executing": false
        }
      }
    },
    {
      "cell_type": "code",
      "execution_count": 3,
      "outputs": [
        {
          "data": {
            "text/plain": "  CountryName CountryCode                                      IndicatorName  \\\n0  Arab World         ARB  Adolescent fertility rate (births per 1,000 wo...   \n1  Arab World         ARB  Age dependency ratio (% of working-age populat...   \n2  Arab World         ARB  Age dependency ratio, old (% of working-age po...   \n3  Arab World         ARB  Age dependency ratio, young (% of working-age ...   \n4  Arab World         ARB        Arms exports (SIPRI trend indicator values)   \n\n    IndicatorCode  Year         Value  \n0     SP.ADO.TFRT  1960  1.335609e+02  \n1     SP.POP.DPND  1960  8.779760e+01  \n2  SP.POP.DPND.OL  1960  6.634579e+00  \n3  SP.POP.DPND.YG  1960  8.102333e+01  \n4  MS.MIL.XPRT.KD  1960  3.000000e+06  ",
            "text/html": "\u003cdiv\u003e\n\u003cstyle scoped\u003e\n    .dataframe tbody tr th:only-of-type {\n        vertical-align: middle;\n    }\n\n    .dataframe tbody tr th {\n        vertical-align: top;\n    }\n\n    .dataframe thead th {\n        text-align: right;\n    }\n\u003c/style\u003e\n\u003ctable border\u003d\"1\" class\u003d\"dataframe\"\u003e\n  \u003cthead\u003e\n    \u003ctr style\u003d\"text-align: right;\"\u003e\n      \u003cth\u003e\u003c/th\u003e\n      \u003cth\u003eCountryName\u003c/th\u003e\n      \u003cth\u003eCountryCode\u003c/th\u003e\n      \u003cth\u003eIndicatorName\u003c/th\u003e\n      \u003cth\u003eIndicatorCode\u003c/th\u003e\n      \u003cth\u003eYear\u003c/th\u003e\n      \u003cth\u003eValue\u003c/th\u003e\n    \u003c/tr\u003e\n  \u003c/thead\u003e\n  \u003ctbody\u003e\n    \u003ctr\u003e\n      \u003cth\u003e0\u003c/th\u003e\n      \u003ctd\u003eArab World\u003c/td\u003e\n      \u003ctd\u003eARB\u003c/td\u003e\n      \u003ctd\u003eAdolescent fertility rate (births per 1,000 wo...\u003c/td\u003e\n      \u003ctd\u003eSP.ADO.TFRT\u003c/td\u003e\n      \u003ctd\u003e1960\u003c/td\u003e\n      \u003ctd\u003e1.335609e+02\u003c/td\u003e\n    \u003c/tr\u003e\n    \u003ctr\u003e\n      \u003cth\u003e1\u003c/th\u003e\n      \u003ctd\u003eArab World\u003c/td\u003e\n      \u003ctd\u003eARB\u003c/td\u003e\n      \u003ctd\u003eAge dependency ratio (% of working-age populat...\u003c/td\u003e\n      \u003ctd\u003eSP.POP.DPND\u003c/td\u003e\n      \u003ctd\u003e1960\u003c/td\u003e\n      \u003ctd\u003e8.779760e+01\u003c/td\u003e\n    \u003c/tr\u003e\n    \u003ctr\u003e\n      \u003cth\u003e2\u003c/th\u003e\n      \u003ctd\u003eArab World\u003c/td\u003e\n      \u003ctd\u003eARB\u003c/td\u003e\n      \u003ctd\u003eAge dependency ratio, old (% of working-age po...\u003c/td\u003e\n      \u003ctd\u003eSP.POP.DPND.OL\u003c/td\u003e\n      \u003ctd\u003e1960\u003c/td\u003e\n      \u003ctd\u003e6.634579e+00\u003c/td\u003e\n    \u003c/tr\u003e\n    \u003ctr\u003e\n      \u003cth\u003e3\u003c/th\u003e\n      \u003ctd\u003eArab World\u003c/td\u003e\n      \u003ctd\u003eARB\u003c/td\u003e\n      \u003ctd\u003eAge dependency ratio, young (% of working-age ...\u003c/td\u003e\n      \u003ctd\u003eSP.POP.DPND.YG\u003c/td\u003e\n      \u003ctd\u003e1960\u003c/td\u003e\n      \u003ctd\u003e8.102333e+01\u003c/td\u003e\n    \u003c/tr\u003e\n    \u003ctr\u003e\n      \u003cth\u003e4\u003c/th\u003e\n      \u003ctd\u003eArab World\u003c/td\u003e\n      \u003ctd\u003eARB\u003c/td\u003e\n      \u003ctd\u003eArms exports (SIPRI trend indicator values)\u003c/td\u003e\n      \u003ctd\u003eMS.MIL.XPRT.KD\u003c/td\u003e\n      \u003ctd\u003e1960\u003c/td\u003e\n      \u003ctd\u003e3.000000e+06\u003c/td\u003e\n    \u003c/tr\u003e\n  \u003c/tbody\u003e\n\u003c/table\u003e\n\u003c/div\u003e"
          },
          "metadata": {},
          "output_type": "execute_result",
          "execution_count": 3
        }
      ],
      "source": "df_indicators.head()",
      "metadata": {
        "pycharm": {
          "metadata": false,
          "name": "#%%\n",
          "is_executing": false
        }
      }
    },
    {
      "cell_type": "code",
      "execution_count": 4,
      "outputs": [
        {
          "name": "stdout",
          "text": [
            "\u003cclass \u0027pandas.core.frame.DataFrame\u0027\u003e\nRangeIndex: 10000 entries, 0 to 9999\nData columns (total 6 columns):\nCountryName      10000 non-null object\nCountryCode      10000 non-null object\nIndicatorName    10000 non-null object\nIndicatorCode    10000 non-null object\nYear             10000 non-null int64\nValue            10000 non-null float64\ndtypes: float64(1), int64(1), object(4)\nmemory usage: 468.8+ KB\n"
          ],
          "output_type": "stream"
        }
      ],
      "source": "df_indicators.info()",
      "metadata": {
        "pycharm": {
          "metadata": false,
          "name": "#%%\n",
          "is_executing": false
        }
      }
    },
    {
      "cell_type": "code",
      "execution_count": 5,
      "outputs": [],
      "source": "df_country \u003d pd.read_csv(\"../data/Country.csv\")",
      "metadata": {
        "pycharm": {
          "metadata": false,
          "name": "#%%\n",
          "is_executing": false
        }
      }
    },
    {
      "cell_type": "code",
      "execution_count": 6,
      "outputs": [
        {
          "data": {
            "text/plain": "  CountryCode       ShortName       TableName  \\\n0         AFG     Afghanistan     Afghanistan   \n1         ALB         Albania         Albania   \n2         DZA         Algeria         Algeria   \n3         ASM  American Samoa  American Samoa   \n4         ADO         Andorra         Andorra   \n\n                                  LongName Alpha2Code    CurrencyUnit  \\\n0             Islamic State of Afghanistan         AF  Afghan afghani   \n1                      Republic of Albania         AL    Albanian lek   \n2  People\u0027s Democratic Republic of Algeria         DZ  Algerian dinar   \n3                           American Samoa         AS     U.S. dollar   \n4                  Principality of Andorra         AD            Euro   \n\n                                        SpecialNotes  \\\n0  Fiscal year end: March 20; reporting period fo...   \n1                                                NaN   \n2                                                NaN   \n3                                                NaN   \n4                                                NaN   \n\n                       Region           IncomeGroup Wb2Code  \\\n0                  South Asia            Low income      AF   \n1       Europe \u0026 Central Asia   Upper middle income      AL   \n2  Middle East \u0026 North Africa   Upper middle income      DZ   \n3         East Asia \u0026 Pacific   Upper middle income      AS   \n4       Europe \u0026 Central Asia  High income: nonOECD      AD   \n\n             ...                 GovernmentAccountingConcept  \\\n0            ...             Consolidated central government   \n1            ...                Budgetary central government   \n2            ...                Budgetary central government   \n3            ...                                         NaN   \n4            ...                                         NaN   \n\n               ImfDataDisseminationStandard  \\\n0  General Data Dissemination System (GDDS)   \n1  General Data Dissemination System (GDDS)   \n2  General Data Dissemination System (GDDS)   \n3                                       NaN   \n4                                       NaN   \n\n                              LatestPopulationCensus  \\\n0                                               1979   \n1                                               2011   \n2                                               2008   \n3                                               2010   \n4  2011. Population data compiled from administra...   \n\n                               LatestHouseholdSurvey  \\\n0  Multiple Indicator Cluster Survey (MICS), 2010/11   \n1       Demographic and Health Survey (DHS), 2008/09   \n2     Multiple Indicator Cluster Survey (MICS), 2012   \n3                                                NaN   \n4                                                NaN   \n\n          SourceOfMostRecentIncomeAndExpenditureData  \\\n0            Integrated household survey (IHS), 2008   \n1  Living Standards Measurement Study Survey (LSM...   \n2            Integrated household survey (IHS), 1995   \n3                                                NaN   \n4                                                NaN   \n\n  VitalRegistrationComplete LatestAgriculturalCensus LatestIndustrialData  \\\n0                       NaN                  2013/14                  NaN   \n1                       Yes                     2012               2011.0   \n2                       NaN                      NaN               2010.0   \n3                       Yes                     2007                  NaN   \n4                       Yes                      NaN                  NaN   \n\n  LatestTradeData LatestWaterWithdrawalData  \n0          2013.0                    2000.0  \n1          2013.0                    2006.0  \n2          2013.0                    2001.0  \n3             NaN                       NaN  \n4          2006.0                       NaN  \n\n[5 rows x 31 columns]",
            "text/html": "\u003cdiv\u003e\n\u003cstyle scoped\u003e\n    .dataframe tbody tr th:only-of-type {\n        vertical-align: middle;\n    }\n\n    .dataframe tbody tr th {\n        vertical-align: top;\n    }\n\n    .dataframe thead th {\n        text-align: right;\n    }\n\u003c/style\u003e\n\u003ctable border\u003d\"1\" class\u003d\"dataframe\"\u003e\n  \u003cthead\u003e\n    \u003ctr style\u003d\"text-align: right;\"\u003e\n      \u003cth\u003e\u003c/th\u003e\n      \u003cth\u003eCountryCode\u003c/th\u003e\n      \u003cth\u003eShortName\u003c/th\u003e\n      \u003cth\u003eTableName\u003c/th\u003e\n      \u003cth\u003eLongName\u003c/th\u003e\n      \u003cth\u003eAlpha2Code\u003c/th\u003e\n      \u003cth\u003eCurrencyUnit\u003c/th\u003e\n      \u003cth\u003eSpecialNotes\u003c/th\u003e\n      \u003cth\u003eRegion\u003c/th\u003e\n      \u003cth\u003eIncomeGroup\u003c/th\u003e\n      \u003cth\u003eWb2Code\u003c/th\u003e\n      \u003cth\u003e...\u003c/th\u003e\n      \u003cth\u003eGovernmentAccountingConcept\u003c/th\u003e\n      \u003cth\u003eImfDataDisseminationStandard\u003c/th\u003e\n      \u003cth\u003eLatestPopulationCensus\u003c/th\u003e\n      \u003cth\u003eLatestHouseholdSurvey\u003c/th\u003e\n      \u003cth\u003eSourceOfMostRecentIncomeAndExpenditureData\u003c/th\u003e\n      \u003cth\u003eVitalRegistrationComplete\u003c/th\u003e\n      \u003cth\u003eLatestAgriculturalCensus\u003c/th\u003e\n      \u003cth\u003eLatestIndustrialData\u003c/th\u003e\n      \u003cth\u003eLatestTradeData\u003c/th\u003e\n      \u003cth\u003eLatestWaterWithdrawalData\u003c/th\u003e\n    \u003c/tr\u003e\n  \u003c/thead\u003e\n  \u003ctbody\u003e\n    \u003ctr\u003e\n      \u003cth\u003e0\u003c/th\u003e\n      \u003ctd\u003eAFG\u003c/td\u003e\n      \u003ctd\u003eAfghanistan\u003c/td\u003e\n      \u003ctd\u003eAfghanistan\u003c/td\u003e\n      \u003ctd\u003eIslamic State of Afghanistan\u003c/td\u003e\n      \u003ctd\u003eAF\u003c/td\u003e\n      \u003ctd\u003eAfghan afghani\u003c/td\u003e\n      \u003ctd\u003eFiscal year end: March 20; reporting period fo...\u003c/td\u003e\n      \u003ctd\u003eSouth Asia\u003c/td\u003e\n      \u003ctd\u003eLow income\u003c/td\u003e\n      \u003ctd\u003eAF\u003c/td\u003e\n      \u003ctd\u003e...\u003c/td\u003e\n      \u003ctd\u003eConsolidated central government\u003c/td\u003e\n      \u003ctd\u003eGeneral Data Dissemination System (GDDS)\u003c/td\u003e\n      \u003ctd\u003e1979\u003c/td\u003e\n      \u003ctd\u003eMultiple Indicator Cluster Survey (MICS), 2010/11\u003c/td\u003e\n      \u003ctd\u003eIntegrated household survey (IHS), 2008\u003c/td\u003e\n      \u003ctd\u003eNaN\u003c/td\u003e\n      \u003ctd\u003e2013/14\u003c/td\u003e\n      \u003ctd\u003eNaN\u003c/td\u003e\n      \u003ctd\u003e2013.0\u003c/td\u003e\n      \u003ctd\u003e2000.0\u003c/td\u003e\n    \u003c/tr\u003e\n    \u003ctr\u003e\n      \u003cth\u003e1\u003c/th\u003e\n      \u003ctd\u003eALB\u003c/td\u003e\n      \u003ctd\u003eAlbania\u003c/td\u003e\n      \u003ctd\u003eAlbania\u003c/td\u003e\n      \u003ctd\u003eRepublic of Albania\u003c/td\u003e\n      \u003ctd\u003eAL\u003c/td\u003e\n      \u003ctd\u003eAlbanian lek\u003c/td\u003e\n      \u003ctd\u003eNaN\u003c/td\u003e\n      \u003ctd\u003eEurope \u0026amp; Central Asia\u003c/td\u003e\n      \u003ctd\u003eUpper middle income\u003c/td\u003e\n      \u003ctd\u003eAL\u003c/td\u003e\n      \u003ctd\u003e...\u003c/td\u003e\n      \u003ctd\u003eBudgetary central government\u003c/td\u003e\n      \u003ctd\u003eGeneral Data Dissemination System (GDDS)\u003c/td\u003e\n      \u003ctd\u003e2011\u003c/td\u003e\n      \u003ctd\u003eDemographic and Health Survey (DHS), 2008/09\u003c/td\u003e\n      \u003ctd\u003eLiving Standards Measurement Study Survey (LSM...\u003c/td\u003e\n      \u003ctd\u003eYes\u003c/td\u003e\n      \u003ctd\u003e2012\u003c/td\u003e\n      \u003ctd\u003e2011.0\u003c/td\u003e\n      \u003ctd\u003e2013.0\u003c/td\u003e\n      \u003ctd\u003e2006.0\u003c/td\u003e\n    \u003c/tr\u003e\n    \u003ctr\u003e\n      \u003cth\u003e2\u003c/th\u003e\n      \u003ctd\u003eDZA\u003c/td\u003e\n      \u003ctd\u003eAlgeria\u003c/td\u003e\n      \u003ctd\u003eAlgeria\u003c/td\u003e\n      \u003ctd\u003ePeople\u0027s Democratic Republic of Algeria\u003c/td\u003e\n      \u003ctd\u003eDZ\u003c/td\u003e\n      \u003ctd\u003eAlgerian dinar\u003c/td\u003e\n      \u003ctd\u003eNaN\u003c/td\u003e\n      \u003ctd\u003eMiddle East \u0026amp; North Africa\u003c/td\u003e\n      \u003ctd\u003eUpper middle income\u003c/td\u003e\n      \u003ctd\u003eDZ\u003c/td\u003e\n      \u003ctd\u003e...\u003c/td\u003e\n      \u003ctd\u003eBudgetary central government\u003c/td\u003e\n      \u003ctd\u003eGeneral Data Dissemination System (GDDS)\u003c/td\u003e\n      \u003ctd\u003e2008\u003c/td\u003e\n      \u003ctd\u003eMultiple Indicator Cluster Survey (MICS), 2012\u003c/td\u003e\n      \u003ctd\u003eIntegrated household survey (IHS), 1995\u003c/td\u003e\n      \u003ctd\u003eNaN\u003c/td\u003e\n      \u003ctd\u003eNaN\u003c/td\u003e\n      \u003ctd\u003e2010.0\u003c/td\u003e\n      \u003ctd\u003e2013.0\u003c/td\u003e\n      \u003ctd\u003e2001.0\u003c/td\u003e\n    \u003c/tr\u003e\n    \u003ctr\u003e\n      \u003cth\u003e3\u003c/th\u003e\n      \u003ctd\u003eASM\u003c/td\u003e\n      \u003ctd\u003eAmerican Samoa\u003c/td\u003e\n      \u003ctd\u003eAmerican Samoa\u003c/td\u003e\n      \u003ctd\u003eAmerican Samoa\u003c/td\u003e\n      \u003ctd\u003eAS\u003c/td\u003e\n      \u003ctd\u003eU.S. dollar\u003c/td\u003e\n      \u003ctd\u003eNaN\u003c/td\u003e\n      \u003ctd\u003eEast Asia \u0026amp; Pacific\u003c/td\u003e\n      \u003ctd\u003eUpper middle income\u003c/td\u003e\n      \u003ctd\u003eAS\u003c/td\u003e\n      \u003ctd\u003e...\u003c/td\u003e\n      \u003ctd\u003eNaN\u003c/td\u003e\n      \u003ctd\u003eNaN\u003c/td\u003e\n      \u003ctd\u003e2010\u003c/td\u003e\n      \u003ctd\u003eNaN\u003c/td\u003e\n      \u003ctd\u003eNaN\u003c/td\u003e\n      \u003ctd\u003eYes\u003c/td\u003e\n      \u003ctd\u003e2007\u003c/td\u003e\n      \u003ctd\u003eNaN\u003c/td\u003e\n      \u003ctd\u003eNaN\u003c/td\u003e\n      \u003ctd\u003eNaN\u003c/td\u003e\n    \u003c/tr\u003e\n    \u003ctr\u003e\n      \u003cth\u003e4\u003c/th\u003e\n      \u003ctd\u003eADO\u003c/td\u003e\n      \u003ctd\u003eAndorra\u003c/td\u003e\n      \u003ctd\u003eAndorra\u003c/td\u003e\n      \u003ctd\u003ePrincipality of Andorra\u003c/td\u003e\n      \u003ctd\u003eAD\u003c/td\u003e\n      \u003ctd\u003eEuro\u003c/td\u003e\n      \u003ctd\u003eNaN\u003c/td\u003e\n      \u003ctd\u003eEurope \u0026amp; Central Asia\u003c/td\u003e\n      \u003ctd\u003eHigh income: nonOECD\u003c/td\u003e\n      \u003ctd\u003eAD\u003c/td\u003e\n      \u003ctd\u003e...\u003c/td\u003e\n      \u003ctd\u003eNaN\u003c/td\u003e\n      \u003ctd\u003eNaN\u003c/td\u003e\n      \u003ctd\u003e2011. Population data compiled from administra...\u003c/td\u003e\n      \u003ctd\u003eNaN\u003c/td\u003e\n      \u003ctd\u003eNaN\u003c/td\u003e\n      \u003ctd\u003eYes\u003c/td\u003e\n      \u003ctd\u003eNaN\u003c/td\u003e\n      \u003ctd\u003eNaN\u003c/td\u003e\n      \u003ctd\u003e2006.0\u003c/td\u003e\n      \u003ctd\u003eNaN\u003c/td\u003e\n    \u003c/tr\u003e\n  \u003c/tbody\u003e\n\u003c/table\u003e\n\u003cp\u003e5 rows × 31 columns\u003c/p\u003e\n\u003c/div\u003e"
          },
          "metadata": {},
          "output_type": "execute_result",
          "execution_count": 6
        }
      ],
      "source": "df_country.head()",
      "metadata": {
        "pycharm": {
          "metadata": false,
          "name": "#%%\n",
          "is_executing": false
        }
      }
    },
    {
      "cell_type": "code",
      "execution_count": 8,
      "outputs": [
        {
          "name": "stdout",
          "text": [
            "\u003cclass \u0027pandas.core.frame.DataFrame\u0027\u003e\nRangeIndex: 247 entries, 0 to 246\nData columns (total 31 columns):\nCountryCode                                   247 non-null object\nShortName                                     247 non-null object\nTableName                                     247 non-null object\nLongName                                      247 non-null object\nAlpha2Code                                    244 non-null object\nCurrencyUnit                                  214 non-null object\nSpecialNotes                                  164 non-null object\nRegion                                        214 non-null object\nIncomeGroup                                   214 non-null object\nWb2Code                                       246 non-null object\nNationalAccountsBaseYear                      205 non-null object\nNationalAccountsReferenceYear                 54 non-null object\nSnaPriceValuation                             198 non-null object\nLendingCategory                               144 non-null object\nOtherGroups                                   59 non-null object\nSystemOfNationalAccounts                      214 non-null object\nAlternativeConversionFactor                   47 non-null object\nPppSurveyYear                                 191 non-null object\nBalanceOfPaymentsManualInUse                  181 non-null object\nExternalDebtReportingStatus                   124 non-null object\nSystemOfTrade                                 200 non-null object\nGovernmentAccountingConcept                   161 non-null object\nImfDataDisseminationStandard                  183 non-null object\nLatestPopulationCensus                        213 non-null object\nLatestHouseholdSurvey                         147 non-null object\nSourceOfMostRecentIncomeAndExpenditureData    158 non-null object\nVitalRegistrationComplete                     112 non-null object\nLatestAgriculturalCensus                      142 non-null object\nLatestIndustrialData                          113 non-null float64\nLatestTradeData                               186 non-null float64\nLatestWaterWithdrawalData                     180 non-null float64\ndtypes: float64(3), object(28)\nmemory usage: 59.9+ KB\n"
          ],
          "output_type": "stream"
        }
      ],
      "source": "df_country.info()",
      "metadata": {
        "pycharm": {
          "metadata": false,
          "name": "#%%\n",
          "is_executing": false
        }
      }
    },
    {
      "cell_type": "code",
      "execution_count": 9,
      "outputs": [],
      "source": "df_series \u003d pd.read_csv(\"../data/Series.csv\")",
      "metadata": {
        "pycharm": {
          "metadata": false,
          "name": "#%%\n",
          "is_executing": false
        }
      }
    },
    {
      "cell_type": "code",
      "execution_count": 10,
      "outputs": [
        {
          "data": {
            "text/plain": "             SeriesCode                                              Topic  \\\n0        BN.KLT.DINV.CD  Economic Policy \u0026 Debt: Balance of payments: C...   \n1  BX.KLT.DINV.WD.GD.ZS  Economic Policy \u0026 Debt: Balance of payments: C...   \n2     BX.KLT.DINV.CD.WD  Economic Policy \u0026 Debt: Balance of payments: C...   \n3     BM.KLT.DINV.GD.ZS  Economic Policy \u0026 Debt: Balance of payments: C...   \n4        BN.TRF.KOGT.CD  Economic Policy \u0026 Debt: Balance of payments: C...   \n\n                                       IndicatorName ShortDefinition  \\\n0  Foreign direct investment, net (BoP, current US$)             NaN   \n1  Foreign direct investment, net inflows (% of GDP)             NaN   \n2  Foreign direct investment, net inflows (BoP, c...             NaN   \n3  Foreign direct investment, net outflows (% of ...             NaN   \n4             Net capital account (BoP, current US$)             NaN   \n\n                                      LongDefinition UnitOfMeasure  \\\n0  Foreign direct investment are the net inflows ...           NaN   \n1  Foreign direct investment are the net inflows ...           NaN   \n2  Foreign direct investment refers to direct inv...           NaN   \n3  Foreign direct investment are the net inflows ...           NaN   \n4  Net capital account records acquisitions and d...           NaN   \n\n  Periodicity BasePeriod  OtherNotes AggregationMethod  \\\n0      Annual        NaN         NaN               NaN   \n1      Annual        NaN         NaN  Weighted average   \n2      Annual        NaN         NaN               Sum   \n3      Annual        NaN         NaN  Weighted average   \n4      Annual        NaN         NaN               NaN   \n\n                            LimitationsAndExceptions NotesFromOriginalSource  \\\n0                                                NaN                     NaN   \n1  FDI data do not give a complete picture of int...                     NaN   \n2  FDI data do not give a complete picture of int...                     NaN   \n3                                                NaN                     NaN   \n4                                                NaN                     NaN   \n\n                                     GeneralComments  \\\n0  Note: Data are based on the sixth edition of t...   \n1  Note: Data starting from 2005 are based on the...   \n2  Note: Data starting from 2005 are based on the...   \n3  Note: Data are based on the sixth edition of t...   \n4  Note: Data are based on the sixth edition of t...   \n\n                                              Source  \\\n0  International Monetary Fund, Balance of Paymen...   \n1  International Monetary Fund, International Fin...   \n2  International Monetary Fund, Balance of Paymen...   \n3  International Monetary Fund, International Fin...   \n4  International Monetary Fund, Balance of Paymen...   \n\n                    StatisticalConceptAndMethodology  \\\n0                                                NaN   \n1  Data on equity flows are based on balance of p...   \n2  Data on equity flows are based on balance of p...   \n3                                                NaN   \n4                                                NaN   \n\n                                DevelopmentRelevance RelatedSourceLinks  \\\n0                                                NaN                NaN   \n1  Private financial flows - equity and debt - ac...                NaN   \n2  Private financial flows - equity and debt - ac...                NaN   \n3                                                NaN                NaN   \n4                                                NaN                NaN   \n\n   OtherWebLinks  RelatedIndicators LicenseType  \n0            NaN                NaN        Open  \n1            NaN                NaN        Open  \n2            NaN                NaN        Open  \n3            NaN                NaN        Open  \n4            NaN                NaN        Open  ",
            "text/html": "\u003cdiv\u003e\n\u003cstyle scoped\u003e\n    .dataframe tbody tr th:only-of-type {\n        vertical-align: middle;\n    }\n\n    .dataframe tbody tr th {\n        vertical-align: top;\n    }\n\n    .dataframe thead th {\n        text-align: right;\n    }\n\u003c/style\u003e\n\u003ctable border\u003d\"1\" class\u003d\"dataframe\"\u003e\n  \u003cthead\u003e\n    \u003ctr style\u003d\"text-align: right;\"\u003e\n      \u003cth\u003e\u003c/th\u003e\n      \u003cth\u003eSeriesCode\u003c/th\u003e\n      \u003cth\u003eTopic\u003c/th\u003e\n      \u003cth\u003eIndicatorName\u003c/th\u003e\n      \u003cth\u003eShortDefinition\u003c/th\u003e\n      \u003cth\u003eLongDefinition\u003c/th\u003e\n      \u003cth\u003eUnitOfMeasure\u003c/th\u003e\n      \u003cth\u003ePeriodicity\u003c/th\u003e\n      \u003cth\u003eBasePeriod\u003c/th\u003e\n      \u003cth\u003eOtherNotes\u003c/th\u003e\n      \u003cth\u003eAggregationMethod\u003c/th\u003e\n      \u003cth\u003eLimitationsAndExceptions\u003c/th\u003e\n      \u003cth\u003eNotesFromOriginalSource\u003c/th\u003e\n      \u003cth\u003eGeneralComments\u003c/th\u003e\n      \u003cth\u003eSource\u003c/th\u003e\n      \u003cth\u003eStatisticalConceptAndMethodology\u003c/th\u003e\n      \u003cth\u003eDevelopmentRelevance\u003c/th\u003e\n      \u003cth\u003eRelatedSourceLinks\u003c/th\u003e\n      \u003cth\u003eOtherWebLinks\u003c/th\u003e\n      \u003cth\u003eRelatedIndicators\u003c/th\u003e\n      \u003cth\u003eLicenseType\u003c/th\u003e\n    \u003c/tr\u003e\n  \u003c/thead\u003e\n  \u003ctbody\u003e\n    \u003ctr\u003e\n      \u003cth\u003e0\u003c/th\u003e\n      \u003ctd\u003eBN.KLT.DINV.CD\u003c/td\u003e\n      \u003ctd\u003eEconomic Policy \u0026amp; Debt: Balance of payments: C...\u003c/td\u003e\n      \u003ctd\u003eForeign direct investment, net (BoP, current US$)\u003c/td\u003e\n      \u003ctd\u003eNaN\u003c/td\u003e\n      \u003ctd\u003eForeign direct investment are the net inflows ...\u003c/td\u003e\n      \u003ctd\u003eNaN\u003c/td\u003e\n      \u003ctd\u003eAnnual\u003c/td\u003e\n      \u003ctd\u003eNaN\u003c/td\u003e\n      \u003ctd\u003eNaN\u003c/td\u003e\n      \u003ctd\u003eNaN\u003c/td\u003e\n      \u003ctd\u003eNaN\u003c/td\u003e\n      \u003ctd\u003eNaN\u003c/td\u003e\n      \u003ctd\u003eNote: Data are based on the sixth edition of t...\u003c/td\u003e\n      \u003ctd\u003eInternational Monetary Fund, Balance of Paymen...\u003c/td\u003e\n      \u003ctd\u003eNaN\u003c/td\u003e\n      \u003ctd\u003eNaN\u003c/td\u003e\n      \u003ctd\u003eNaN\u003c/td\u003e\n      \u003ctd\u003eNaN\u003c/td\u003e\n      \u003ctd\u003eNaN\u003c/td\u003e\n      \u003ctd\u003eOpen\u003c/td\u003e\n    \u003c/tr\u003e\n    \u003ctr\u003e\n      \u003cth\u003e1\u003c/th\u003e\n      \u003ctd\u003eBX.KLT.DINV.WD.GD.ZS\u003c/td\u003e\n      \u003ctd\u003eEconomic Policy \u0026amp; Debt: Balance of payments: C...\u003c/td\u003e\n      \u003ctd\u003eForeign direct investment, net inflows (% of GDP)\u003c/td\u003e\n      \u003ctd\u003eNaN\u003c/td\u003e\n      \u003ctd\u003eForeign direct investment are the net inflows ...\u003c/td\u003e\n      \u003ctd\u003eNaN\u003c/td\u003e\n      \u003ctd\u003eAnnual\u003c/td\u003e\n      \u003ctd\u003eNaN\u003c/td\u003e\n      \u003ctd\u003eNaN\u003c/td\u003e\n      \u003ctd\u003eWeighted average\u003c/td\u003e\n      \u003ctd\u003eFDI data do not give a complete picture of int...\u003c/td\u003e\n      \u003ctd\u003eNaN\u003c/td\u003e\n      \u003ctd\u003eNote: Data starting from 2005 are based on the...\u003c/td\u003e\n      \u003ctd\u003eInternational Monetary Fund, International Fin...\u003c/td\u003e\n      \u003ctd\u003eData on equity flows are based on balance of p...\u003c/td\u003e\n      \u003ctd\u003ePrivate financial flows - equity and debt - ac...\u003c/td\u003e\n      \u003ctd\u003eNaN\u003c/td\u003e\n      \u003ctd\u003eNaN\u003c/td\u003e\n      \u003ctd\u003eNaN\u003c/td\u003e\n      \u003ctd\u003eOpen\u003c/td\u003e\n    \u003c/tr\u003e\n    \u003ctr\u003e\n      \u003cth\u003e2\u003c/th\u003e\n      \u003ctd\u003eBX.KLT.DINV.CD.WD\u003c/td\u003e\n      \u003ctd\u003eEconomic Policy \u0026amp; Debt: Balance of payments: C...\u003c/td\u003e\n      \u003ctd\u003eForeign direct investment, net inflows (BoP, c...\u003c/td\u003e\n      \u003ctd\u003eNaN\u003c/td\u003e\n      \u003ctd\u003eForeign direct investment refers to direct inv...\u003c/td\u003e\n      \u003ctd\u003eNaN\u003c/td\u003e\n      \u003ctd\u003eAnnual\u003c/td\u003e\n      \u003ctd\u003eNaN\u003c/td\u003e\n      \u003ctd\u003eNaN\u003c/td\u003e\n      \u003ctd\u003eSum\u003c/td\u003e\n      \u003ctd\u003eFDI data do not give a complete picture of int...\u003c/td\u003e\n      \u003ctd\u003eNaN\u003c/td\u003e\n      \u003ctd\u003eNote: Data starting from 2005 are based on the...\u003c/td\u003e\n      \u003ctd\u003eInternational Monetary Fund, Balance of Paymen...\u003c/td\u003e\n      \u003ctd\u003eData on equity flows are based on balance of p...\u003c/td\u003e\n      \u003ctd\u003ePrivate financial flows - equity and debt - ac...\u003c/td\u003e\n      \u003ctd\u003eNaN\u003c/td\u003e\n      \u003ctd\u003eNaN\u003c/td\u003e\n      \u003ctd\u003eNaN\u003c/td\u003e\n      \u003ctd\u003eOpen\u003c/td\u003e\n    \u003c/tr\u003e\n    \u003ctr\u003e\n      \u003cth\u003e3\u003c/th\u003e\n      \u003ctd\u003eBM.KLT.DINV.GD.ZS\u003c/td\u003e\n      \u003ctd\u003eEconomic Policy \u0026amp; Debt: Balance of payments: C...\u003c/td\u003e\n      \u003ctd\u003eForeign direct investment, net outflows (% of ...\u003c/td\u003e\n      \u003ctd\u003eNaN\u003c/td\u003e\n      \u003ctd\u003eForeign direct investment are the net inflows ...\u003c/td\u003e\n      \u003ctd\u003eNaN\u003c/td\u003e\n      \u003ctd\u003eAnnual\u003c/td\u003e\n      \u003ctd\u003eNaN\u003c/td\u003e\n      \u003ctd\u003eNaN\u003c/td\u003e\n      \u003ctd\u003eWeighted average\u003c/td\u003e\n      \u003ctd\u003eNaN\u003c/td\u003e\n      \u003ctd\u003eNaN\u003c/td\u003e\n      \u003ctd\u003eNote: Data are based on the sixth edition of t...\u003c/td\u003e\n      \u003ctd\u003eInternational Monetary Fund, International Fin...\u003c/td\u003e\n      \u003ctd\u003eNaN\u003c/td\u003e\n      \u003ctd\u003eNaN\u003c/td\u003e\n      \u003ctd\u003eNaN\u003c/td\u003e\n      \u003ctd\u003eNaN\u003c/td\u003e\n      \u003ctd\u003eNaN\u003c/td\u003e\n      \u003ctd\u003eOpen\u003c/td\u003e\n    \u003c/tr\u003e\n    \u003ctr\u003e\n      \u003cth\u003e4\u003c/th\u003e\n      \u003ctd\u003eBN.TRF.KOGT.CD\u003c/td\u003e\n      \u003ctd\u003eEconomic Policy \u0026amp; Debt: Balance of payments: C...\u003c/td\u003e\n      \u003ctd\u003eNet capital account (BoP, current US$)\u003c/td\u003e\n      \u003ctd\u003eNaN\u003c/td\u003e\n      \u003ctd\u003eNet capital account records acquisitions and d...\u003c/td\u003e\n      \u003ctd\u003eNaN\u003c/td\u003e\n      \u003ctd\u003eAnnual\u003c/td\u003e\n      \u003ctd\u003eNaN\u003c/td\u003e\n      \u003ctd\u003eNaN\u003c/td\u003e\n      \u003ctd\u003eNaN\u003c/td\u003e\n      \u003ctd\u003eNaN\u003c/td\u003e\n      \u003ctd\u003eNaN\u003c/td\u003e\n      \u003ctd\u003eNote: Data are based on the sixth edition of t...\u003c/td\u003e\n      \u003ctd\u003eInternational Monetary Fund, Balance of Paymen...\u003c/td\u003e\n      \u003ctd\u003eNaN\u003c/td\u003e\n      \u003ctd\u003eNaN\u003c/td\u003e\n      \u003ctd\u003eNaN\u003c/td\u003e\n      \u003ctd\u003eNaN\u003c/td\u003e\n      \u003ctd\u003eNaN\u003c/td\u003e\n      \u003ctd\u003eOpen\u003c/td\u003e\n    \u003c/tr\u003e\n  \u003c/tbody\u003e\n\u003c/table\u003e\n\u003c/div\u003e"
          },
          "metadata": {},
          "output_type": "execute_result",
          "execution_count": 10
        }
      ],
      "source": "df_series.head()",
      "metadata": {
        "pycharm": {
          "metadata": false,
          "name": "#%%\n",
          "is_executing": false
        }
      }
    },
    {
      "cell_type": "code",
      "execution_count": 11,
      "outputs": [
        {
          "name": "stdout",
          "text": [
            "\u003cclass \u0027pandas.core.frame.DataFrame\u0027\u003e\nRangeIndex: 1345 entries, 0 to 1344\nData columns (total 20 columns):\nSeriesCode                          1345 non-null object\nTopic                               1345 non-null object\nIndicatorName                       1345 non-null object\nShortDefinition                     118 non-null object\nLongDefinition                      1345 non-null object\nUnitOfMeasure                       7 non-null object\nPeriodicity                         1345 non-null object\nBasePeriod                          77 non-null object\nOtherNotes                          0 non-null float64\nAggregationMethod                   1058 non-null object\nLimitationsAndExceptions            711 non-null object\nNotesFromOriginalSource             38 non-null object\nGeneralComments                     281 non-null object\nSource                              1345 non-null object\nStatisticalConceptAndMethodology    773 non-null object\nDevelopmentRelevance                575 non-null object\nRelatedSourceLinks                  6 non-null object\nOtherWebLinks                       0 non-null float64\nRelatedIndicators                   0 non-null float64\nLicenseType                         1345 non-null object\ndtypes: float64(3), object(17)\nmemory usage: 210.2+ KB\n"
          ],
          "output_type": "stream"
        }
      ],
      "source": "df_series.info()",
      "metadata": {
        "pycharm": {
          "metadata": false,
          "name": "#%%\n",
          "is_executing": false
        }
      }
    }
  ],
  "metadata": {
    "language_info": {
      "codemirror_mode": {
        "name": "ipython",
        "version": 2
      },
      "file_extension": ".py",
      "mimetype": "text/x-python",
      "name": "python",
      "nbconvert_exporter": "python",
      "pygments_lexer": "ipython2",
      "version": "2.7.6"
    },
    "kernelspec": {
      "name": "python3",
      "language": "python",
      "display_name": "Python 3"
    }
  },
  "nbformat": 4,
  "nbformat_minor": 0
}