{
  "cells": [
    {
      "cell_type": "code",
      "execution_count": 1,
      "metadata": {
        "collapsed": true,
        "pycharm": {
          "is_executing": false
        }
      },
      "outputs": [],
      "source": "from datapackage import Package"
    },
    {
      "cell_type": "code",
      "execution_count": 2,
      "outputs": [],
      "source": "package \u003d Package(\u0027https://datahub.io/core/glacier-mass-balance/datapackage.json\u0027)",
      "metadata": {
        "pycharm": {
          "metadata": false,
          "name": "#%%\n",
          "is_executing": false
        }
      }
    },
    {
      "cell_type": "code",
      "execution_count": 3,
      "outputs": [
        {
          "name": "stdout",
          "text": [
            "validation_report\nglaciers_csv\nglaciers_json\nglacier-mass-balance_zip\nglaciers\n"
          ],
          "output_type": "stream"
        }
      ],
      "source": "for resource in package.resource_names:\n    print(resource)",
      "metadata": {
        "pycharm": {
          "metadata": false,
          "name": "#%%\n",
          "is_executing": false
        }
      }
    },
    {
      "cell_type": "code",
      "execution_count": 4,
      "outputs": [],
      "source": "glaciers_resource \u003d package.get_resource(\u0027glaciers_csv\u0027) ",
      "metadata": {
        "pycharm": {
          "metadata": false,
          "name": "#%%\n",
          "is_executing": false
        }
      }
    },
    {
      "cell_type": "code",
      "execution_count": 5,
      "outputs": [],
      "source": "glaciers_data \u003d glaciers_resource.read()",
      "metadata": {
        "pycharm": {
          "metadata": false,
          "name": "#%%\n",
          "is_executing": false
        }
      }
    },
    {
      "cell_type": "code",
      "execution_count": 6,
      "outputs": [],
      "source": "import pandas as pd\ndf \u003d pd.DataFrame(glaciers_data)",
      "metadata": {
        "pycharm": {
          "metadata": false,
          "name": "#%%\n",
          "is_executing": false
        }
      }
    },
    {
      "cell_type": "code",
      "execution_count": 8,
      "outputs": [
        {
          "data": {
            "text/plain": "   year mean_cumulative_mass_balance num_observations\n0  1945                            0             None\n1  1946                        -1.13                1\n2  1947                        -3.19                1\n3  1948                        -3.19                1\n4  1949                        -3.82                3",
            "text/html": "\u003cdiv\u003e\n\u003cstyle scoped\u003e\n    .dataframe tbody tr th:only-of-type {\n        vertical-align: middle;\n    }\n\n    .dataframe tbody tr th {\n        vertical-align: top;\n    }\n\n    .dataframe thead th {\n        text-align: right;\n    }\n\u003c/style\u003e\n\u003ctable border\u003d\"1\" class\u003d\"dataframe\"\u003e\n  \u003cthead\u003e\n    \u003ctr style\u003d\"text-align: right;\"\u003e\n      \u003cth\u003e\u003c/th\u003e\n      \u003cth\u003eyear\u003c/th\u003e\n      \u003cth\u003emean_cumulative_mass_balance\u003c/th\u003e\n      \u003cth\u003enum_observations\u003c/th\u003e\n    \u003c/tr\u003e\n  \u003c/thead\u003e\n  \u003ctbody\u003e\n    \u003ctr\u003e\n      \u003cth\u003e0\u003c/th\u003e\n      \u003ctd\u003e1945\u003c/td\u003e\n      \u003ctd\u003e0\u003c/td\u003e\n      \u003ctd\u003eNone\u003c/td\u003e\n    \u003c/tr\u003e\n    \u003ctr\u003e\n      \u003cth\u003e1\u003c/th\u003e\n      \u003ctd\u003e1946\u003c/td\u003e\n      \u003ctd\u003e-1.13\u003c/td\u003e\n      \u003ctd\u003e1\u003c/td\u003e\n    \u003c/tr\u003e\n    \u003ctr\u003e\n      \u003cth\u003e2\u003c/th\u003e\n      \u003ctd\u003e1947\u003c/td\u003e\n      \u003ctd\u003e-3.19\u003c/td\u003e\n      \u003ctd\u003e1\u003c/td\u003e\n    \u003c/tr\u003e\n    \u003ctr\u003e\n      \u003cth\u003e3\u003c/th\u003e\n      \u003ctd\u003e1948\u003c/td\u003e\n      \u003ctd\u003e-3.19\u003c/td\u003e\n      \u003ctd\u003e1\u003c/td\u003e\n    \u003c/tr\u003e\n    \u003ctr\u003e\n      \u003cth\u003e4\u003c/th\u003e\n      \u003ctd\u003e1949\u003c/td\u003e\n      \u003ctd\u003e-3.82\u003c/td\u003e\n      \u003ctd\u003e3\u003c/td\u003e\n    \u003c/tr\u003e\n  \u003c/tbody\u003e\n\u003c/table\u003e\n\u003c/div\u003e"
          },
          "metadata": {},
          "output_type": "execute_result",
          "execution_count": 8
        }
      ],
      "source": "df.columns \u003d [\u0027year\u0027, \u0027mean_cumulative_mass_balance\u0027, \u0027num_observations\u0027]\ndf.head()",
      "metadata": {
        "pycharm": {
          "metadata": false,
          "name": "#%%\n",
          "is_executing": false
        }
      }
    },
    {
      "cell_type": "code",
      "execution_count": 9,
      "outputs": [
        {
          "name": "stdout",
          "text": [
            "\u003cclass \u0027pandas.core.frame.DataFrame\u0027\u003e\nRangeIndex: 70 entries, 0 to 69\nData columns (total 3 columns):\nyear                            70 non-null int64\nmean_cumulative_mass_balance    70 non-null object\nnum_observations                69 non-null object\ndtypes: int64(1), object(2)\nmemory usage: 1.7+ KB\n"
          ],
          "output_type": "stream"
        }
      ],
      "source": "df.info()",
      "metadata": {
        "pycharm": {
          "metadata": false,
          "name": "#%%\n",
          "is_executing": false
        }
      }
    },
    {
      "cell_type": "code",
      "execution_count": 11,
      "outputs": [
        {
          "name": "stdout",
          "text": [
            "\u003cclass \u0027pandas.core.frame.DataFrame\u0027\u003e\nRangeIndex: 70 entries, 0 to 69\nData columns (total 3 columns):\nyear                            70 non-null int64\nmean_cumulative_mass_balance    70 non-null float64\nnum_observations                69 non-null float64\ndtypes: float64(2), int64(1)\nmemory usage: 1.7 KB\n"
          ],
          "output_type": "stream"
        }
      ],
      "source": "df[\u0027mean_cumulative_mass_balance\u0027] \u003d pd.to_numeric(df[\u0027mean_cumulative_mass_balance\u0027])\ndf[\u0027num_observations\u0027] \u003d pd.to_numeric(df[\u0027num_observations\u0027])\ndf.info()",
      "metadata": {
        "pycharm": {
          "metadata": false,
          "name": "#%%\n",
          "is_executing": false
        }
      }
    },
    {
      "cell_type": "code",
      "execution_count": 18,
      "outputs": [
        {
          "data": {
            "text/plain": "\u003cmatplotlib.figure.Figure at 0x11d5adef0\u003e",
            "image/png": "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\u003d\n"
          },
          "metadata": {
            "needs_background": "light"
          },
          "output_type": "display_data"
        }
      ],
      "source": "import matplotlib.pyplot as plt\nax \u003d plt.gca()\ndf.plot(subplots\u003dTrue, kind\u003d\u0027line\u0027, x\u003d\u0027year\u0027, y\u003d\u0027mean_cumulative_mass_balance\u0027, ax\u003dax, linewidth\u003d0.5)\n# plt.show()\nplt.savefig(\u0027glacier_mean_cumulative_mass_balance.png\u0027, bbox_inches\u003d\u0027tight\u0027)",
      "metadata": {
        "pycharm": {
          "metadata": false,
          "name": "#%%\n",
          "is_executing": false
        }
      }
    },
    {
      "cell_type": "code",
      "execution_count": null,
      "outputs": [],
      "source": "\n",
      "metadata": {
        "pycharm": {
          "metadata": false,
          "name": "#%%\n"
        }
      }
    }
  ],
  "metadata": {
    "language_info": {
      "codemirror_mode": {
        "name": "ipython",
        "version": 2
      },
      "file_extension": ".py",
      "mimetype": "text/x-python",
      "name": "python",
      "nbconvert_exporter": "python",
      "pygments_lexer": "ipython2",
      "version": "2.7.6"
    },
    "kernelspec": {
      "name": "python3",
      "language": "python",
      "display_name": "Python 3"
    }
  },
  "nbformat": 4,
  "nbformat_minor": 0
}