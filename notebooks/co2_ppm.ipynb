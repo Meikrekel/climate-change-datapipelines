{
  "cells": [
    {
      "cell_type": "code",
      "execution_count": 1,
      "metadata": {
        "collapsed": true,
        "pycharm": {
          "is_executing": false
        }
      },
      "outputs": [],
      "source": "from datapackage import Package"
    },
    {
      "cell_type": "code",
      "execution_count": 2,
      "outputs": [],
      "source": "package \u003d Package(\u0027https://datahub.io/core/co2-ppm/datapackage.json\u0027)",
      "metadata": {
        "pycharm": {
          "metadata": false,
          "name": "#%%\n",
          "is_executing": false
        }
      }
    },
    {
      "cell_type": "code",
      "execution_count": 3,
      "outputs": [
        {
          "name": "stdout",
          "text": [
            "validation_report\nco2-mm-mlo_csv\nco2-annmean-mlo_csv\nco2-gr-mlo_csv\nco2-mm-gl_csv\nco2-annmean-gl_csv\nco2-gr-gl_csv\nco2-mm-mlo_json\nco2-annmean-mlo_json\nco2-gr-mlo_json\nco2-mm-gl_json\nco2-annmean-gl_json\nco2-gr-gl_json\nco2-ppm_zip\nco2-mm-mlo\nco2-annmean-mlo\nco2-gr-mlo\nco2-mm-gl\nco2-annmean-gl\nco2-gr-gl\n"
          ],
          "output_type": "stream"
        }
      ],
      "source": "for resource in package.resource_names:\n    print(resource)",
      "metadata": {
        "pycharm": {
          "metadata": false,
          "name": "#%%\n",
          "is_executing": false
        }
      }
    },
    {
      "cell_type": "code",
      "execution_count": 4,
      "outputs": [],
      "source": "co2_ppm_resource \u003d package.get_resource(\u0027co2-mm-mlo_csv\u0027) ",
      "metadata": {
        "pycharm": {
          "metadata": false,
          "name": "#%%\n",
          "is_executing": false
        }
      }
    },
    {
      "cell_type": "code",
      "execution_count": 5,
      "outputs": [],
      "source": "co2_ppm_data \u003d co2_ppm_resource.read()",
      "metadata": {
        "pycharm": {
          "metadata": false,
          "name": "#%%\n",
          "is_executing": false
        }
      }
    },
    {
      "cell_type": "code",
      "execution_count": 6,
      "outputs": [],
      "source": "import pandas as pd\ndf \u003d pd.DataFrame(co2_ppm_data)",
      "metadata": {
        "pycharm": {
          "metadata": false,
          "name": "#%%\n",
          "is_executing": false
        }
      }
    },
    {
      "cell_type": "code",
      "execution_count": 7,
      "outputs": [
        {
          "data": {
            "text/plain": "         date decimal_date average interpolated   trend num_days\n0  1958-03-01     1958.208  315.71       315.71  314.62       -1\n1  1958-04-01     1958.292  317.45       317.45  315.29       -1\n2  1958-05-01     1958.375  317.50       317.50  314.71       -1\n3  1958-06-01     1958.458  -99.99       317.10  314.85       -1\n4  1958-07-01     1958.542  315.86       315.86  314.98       -1",
            "text/html": "\u003cdiv\u003e\n\u003cstyle scoped\u003e\n    .dataframe tbody tr th:only-of-type {\n        vertical-align: middle;\n    }\n\n    .dataframe tbody tr th {\n        vertical-align: top;\n    }\n\n    .dataframe thead th {\n        text-align: right;\n    }\n\u003c/style\u003e\n\u003ctable border\u003d\"1\" class\u003d\"dataframe\"\u003e\n  \u003cthead\u003e\n    \u003ctr style\u003d\"text-align: right;\"\u003e\n      \u003cth\u003e\u003c/th\u003e\n      \u003cth\u003edate\u003c/th\u003e\n      \u003cth\u003edecimal_date\u003c/th\u003e\n      \u003cth\u003eaverage\u003c/th\u003e\n      \u003cth\u003einterpolated\u003c/th\u003e\n      \u003cth\u003etrend\u003c/th\u003e\n      \u003cth\u003enum_days\u003c/th\u003e\n    \u003c/tr\u003e\n  \u003c/thead\u003e\n  \u003ctbody\u003e\n    \u003ctr\u003e\n      \u003cth\u003e0\u003c/th\u003e\n      \u003ctd\u003e1958-03-01\u003c/td\u003e\n      \u003ctd\u003e1958.208\u003c/td\u003e\n      \u003ctd\u003e315.71\u003c/td\u003e\n      \u003ctd\u003e315.71\u003c/td\u003e\n      \u003ctd\u003e314.62\u003c/td\u003e\n      \u003ctd\u003e-1\u003c/td\u003e\n    \u003c/tr\u003e\n    \u003ctr\u003e\n      \u003cth\u003e1\u003c/th\u003e\n      \u003ctd\u003e1958-04-01\u003c/td\u003e\n      \u003ctd\u003e1958.292\u003c/td\u003e\n      \u003ctd\u003e317.45\u003c/td\u003e\n      \u003ctd\u003e317.45\u003c/td\u003e\n      \u003ctd\u003e315.29\u003c/td\u003e\n      \u003ctd\u003e-1\u003c/td\u003e\n    \u003c/tr\u003e\n    \u003ctr\u003e\n      \u003cth\u003e2\u003c/th\u003e\n      \u003ctd\u003e1958-05-01\u003c/td\u003e\n      \u003ctd\u003e1958.375\u003c/td\u003e\n      \u003ctd\u003e317.50\u003c/td\u003e\n      \u003ctd\u003e317.50\u003c/td\u003e\n      \u003ctd\u003e314.71\u003c/td\u003e\n      \u003ctd\u003e-1\u003c/td\u003e\n    \u003c/tr\u003e\n    \u003ctr\u003e\n      \u003cth\u003e3\u003c/th\u003e\n      \u003ctd\u003e1958-06-01\u003c/td\u003e\n      \u003ctd\u003e1958.458\u003c/td\u003e\n      \u003ctd\u003e-99.99\u003c/td\u003e\n      \u003ctd\u003e317.10\u003c/td\u003e\n      \u003ctd\u003e314.85\u003c/td\u003e\n      \u003ctd\u003e-1\u003c/td\u003e\n    \u003c/tr\u003e\n    \u003ctr\u003e\n      \u003cth\u003e4\u003c/th\u003e\n      \u003ctd\u003e1958-07-01\u003c/td\u003e\n      \u003ctd\u003e1958.542\u003c/td\u003e\n      \u003ctd\u003e315.86\u003c/td\u003e\n      \u003ctd\u003e315.86\u003c/td\u003e\n      \u003ctd\u003e314.98\u003c/td\u003e\n      \u003ctd\u003e-1\u003c/td\u003e\n    \u003c/tr\u003e\n  \u003c/tbody\u003e\n\u003c/table\u003e\n\u003c/div\u003e"
          },
          "metadata": {},
          "output_type": "execute_result",
          "execution_count": 7
        }
      ],
      "source": "df.columns \u003d [\u0027date\u0027, \u0027decimal_date\u0027, \u0027average\u0027, \u0027interpolated\u0027, \u0027trend\u0027, \u0027num_days\u0027]\ndf.head()",
      "metadata": {
        "pycharm": {
          "metadata": false,
          "name": "#%%\n",
          "is_executing": false
        }
      }
    },
    {
      "cell_type": "code",
      "execution_count": 8,
      "outputs": [
        {
          "name": "stdout",
          "text": [
            "\u003cclass \u0027pandas.core.frame.DataFrame\u0027\u003e\nRangeIndex: 727 entries, 0 to 726\nData columns (total 6 columns):\ndate            727 non-null object\ndecimal_date    727 non-null object\naverage         727 non-null object\ninterpolated    727 non-null object\ntrend           727 non-null object\nnum_days        727 non-null object\ndtypes: object(6)\nmemory usage: 34.2+ KB\n"
          ],
          "output_type": "stream"
        }
      ],
      "source": "df.info()",
      "metadata": {
        "pycharm": {
          "metadata": false,
          "name": "#%%\n",
          "is_executing": false
        }
      }
    },
    {
      "cell_type": "code",
      "execution_count": 11,
      "outputs": [
        {
          "name": "stdout",
          "text": [
            "\u003cclass \u0027pandas.core.frame.DataFrame\u0027\u003e\nRangeIndex: 727 entries, 0 to 726\nData columns (total 6 columns):\ndate            727 non-null datetime64[ns]\ndecimal_date    727 non-null object\naverage         727 non-null float64\ninterpolated    727 non-null float64\ntrend           727 non-null float64\nnum_days        727 non-null float64\ndtypes: datetime64[ns](1), float64(4), object(1)\nmemory usage: 34.2+ KB\n"
          ],
          "output_type": "stream"
        }
      ],
      "source": "df[\u0027date\u0027] \u003d pd.to_datetime(df[\u0027date\u0027])\ndf[\u0027average\u0027] \u003d pd.to_numeric(df[\u0027average\u0027])\ndf[\u0027interpolated\u0027] \u003d pd.to_numeric(df[\u0027interpolated\u0027])\ndf[\u0027trend\u0027] \u003d pd.to_numeric(df[\u0027trend\u0027])\ndf[\u0027num_days\u0027] \u003d pd.to_numeric(df[\u0027num_days\u0027])\ndf.info()",
      "metadata": {
        "pycharm": {
          "metadata": false,
          "name": "#%%\n",
          "is_executing": false
        }
      }
    },
    {
      "cell_type": "code",
      "execution_count": 16,
      "outputs": [
        {
          "data": {
            "text/plain": "\u003cmatplotlib.figure.Figure at 0x11ce9d080\u003e",
            "image/png": "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\u003d\u003d\n"
          },
          "metadata": {
            "needs_background": "light"
          },
          "output_type": "display_data"
        }
      ],
      "source": "import matplotlib.pyplot as plt\nax \u003d plt.gca()\ndf.plot(subplots\u003dTrue, kind\u003d\u0027line\u0027, x\u003d\u0027date\u0027, y\u003d\u0027interpolated\u0027, ax\u003dax, linewidth\u003d0.5, color\u003d\u0027red\u0027)\n# plt.show()\nplt.savefig(\u0027co2_ppm_rise.png\u0027, bbox_inches\u003d\u0027tight\u0027)",
      "metadata": {
        "pycharm": {
          "metadata": false,
          "name": "#%%\n",
          "is_executing": false
        }
      }
    },
    {
      "cell_type": "code",
      "execution_count": null,
      "outputs": [],
      "source": "\n",
      "metadata": {
        "pycharm": {
          "metadata": false,
          "name": "#%%\n"
        }
      }
    }
  ],
  "metadata": {
    "language_info": {
      "codemirror_mode": {
        "name": "ipython",
        "version": 2
      },
      "file_extension": ".py",
      "mimetype": "text/x-python",
      "name": "python",
      "nbconvert_exporter": "python",
      "pygments_lexer": "ipython2",
      "version": "2.7.6"
    },
    "kernelspec": {
      "name": "python3",
      "language": "python",
      "display_name": "Python 3"
    }
  },
  "nbformat": 4,
  "nbformat_minor": 0
}