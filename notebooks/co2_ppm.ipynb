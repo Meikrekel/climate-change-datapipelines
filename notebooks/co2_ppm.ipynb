{
  "cells": [
    {
      "cell_type": "code",
      "execution_count": 1,
      "metadata": {
        "collapsed": true,
        "pycharm": {
          "is_executing": false
        }
      },
      "outputs": [],
      "source": "from datapackage import Package"
    },
    {
      "cell_type": "code",
      "execution_count": 2,
      "outputs": [],
      "source": "package \u003d Package(\u0027https://datahub.io/core/co2-ppm/datapackage.json\u0027)",
      "metadata": {
        "pycharm": {
          "metadata": false,
          "name": "#%%\n",
          "is_executing": false
        }
      }
    },
    {
      "cell_type": "code",
      "execution_count": 3,
      "outputs": [
        {
          "name": "stdout",
          "text": [
            "validation_report\nco2-mm-mlo_csv\nco2-annmean-mlo_csv\nco2-gr-mlo_csv\nco2-mm-gl_csv\nco2-annmean-gl_csv\nco2-gr-gl_csv\nco2-mm-mlo_json\nco2-annmean-mlo_json\nco2-gr-mlo_json\nco2-mm-gl_json\nco2-annmean-gl_json\nco2-gr-gl_json\nco2-ppm_zip\nco2-mm-mlo\nco2-annmean-mlo\nco2-gr-mlo\nco2-mm-gl\nco2-annmean-gl\nco2-gr-gl\n"
          ],
          "output_type": "stream"
        }
      ],
      "source": "for resource in package.resource_names:\n    print(resource)",
      "metadata": {
        "pycharm": {
          "metadata": false,
          "name": "#%%\n",
          "is_executing": false
        }
      }
    },
    {
      "cell_type": "code",
      "execution_count": 4,
      "outputs": [],
      "source": "co2_ppm_resource \u003d package.get_resource(\u0027co2-mm-mlo_csv\u0027) ",
      "metadata": {
        "pycharm": {
          "metadata": false,
          "name": "#%%\n",
          "is_executing": false
        }
      }
    },
    {
      "cell_type": "code",
      "execution_count": 5,
      "outputs": [],
      "source": "co2_ppm_data \u003d co2_ppm_resource.read()",
      "metadata": {
        "pycharm": {
          "metadata": false,
          "name": "#%%\n",
          "is_executing": false
        }
      }
    },
    {
      "cell_type": "code",
      "execution_count": 6,
      "outputs": [],
      "source": "import pandas as pd\ndf \u003d pd.DataFrame(co2_ppm_data)",
      "metadata": {
        "pycharm": {
          "metadata": false,
          "name": "#%%\n",
          "is_executing": false
        }
      }
    },
    {
      "cell_type": "code",
      "execution_count": 7,
      "outputs": [
        {
          "data": {
            "text/plain": "         date decimal_date average interpolated   trend num_days\n0  1958-03-01     1958.208  315.71       315.71  314.62       -1\n1  1958-04-01     1958.292  317.45       317.45  315.29       -1\n2  1958-05-01     1958.375  317.50       317.50  314.71       -1\n3  1958-06-01     1958.458  -99.99       317.10  314.85       -1\n4  1958-07-01     1958.542  315.86       315.86  314.98       -1",
            "text/html": "\u003cdiv\u003e\n\u003cstyle scoped\u003e\n    .dataframe tbody tr th:only-of-type {\n        vertical-align: middle;\n    }\n\n    .dataframe tbody tr th {\n        vertical-align: top;\n    }\n\n    .dataframe thead th {\n        text-align: right;\n    }\n\u003c/style\u003e\n\u003ctable border\u003d\"1\" class\u003d\"dataframe\"\u003e\n  \u003cthead\u003e\n    \u003ctr style\u003d\"text-align: right;\"\u003e\n      \u003cth\u003e\u003c/th\u003e\n      \u003cth\u003edate\u003c/th\u003e\n      \u003cth\u003edecimal_date\u003c/th\u003e\n      \u003cth\u003eaverage\u003c/th\u003e\n      \u003cth\u003einterpolated\u003c/th\u003e\n      \u003cth\u003etrend\u003c/th\u003e\n      \u003cth\u003enum_days\u003c/th\u003e\n    \u003c/tr\u003e\n  \u003c/thead\u003e\n  \u003ctbody\u003e\n    \u003ctr\u003e\n      \u003cth\u003e0\u003c/th\u003e\n      \u003ctd\u003e1958-03-01\u003c/td\u003e\n      \u003ctd\u003e1958.208\u003c/td\u003e\n      \u003ctd\u003e315.71\u003c/td\u003e\n      \u003ctd\u003e315.71\u003c/td\u003e\n      \u003ctd\u003e314.62\u003c/td\u003e\n      \u003ctd\u003e-1\u003c/td\u003e\n    \u003c/tr\u003e\n    \u003ctr\u003e\n      \u003cth\u003e1\u003c/th\u003e\n      \u003ctd\u003e1958-04-01\u003c/td\u003e\n      \u003ctd\u003e1958.292\u003c/td\u003e\n      \u003ctd\u003e317.45\u003c/td\u003e\n      \u003ctd\u003e317.45\u003c/td\u003e\n      \u003ctd\u003e315.29\u003c/td\u003e\n      \u003ctd\u003e-1\u003c/td\u003e\n    \u003c/tr\u003e\n    \u003ctr\u003e\n      \u003cth\u003e2\u003c/th\u003e\n      \u003ctd\u003e1958-05-01\u003c/td\u003e\n      \u003ctd\u003e1958.375\u003c/td\u003e\n      \u003ctd\u003e317.50\u003c/td\u003e\n      \u003ctd\u003e317.50\u003c/td\u003e\n      \u003ctd\u003e314.71\u003c/td\u003e\n      \u003ctd\u003e-1\u003c/td\u003e\n    \u003c/tr\u003e\n    \u003ctr\u003e\n      \u003cth\u003e3\u003c/th\u003e\n      \u003ctd\u003e1958-06-01\u003c/td\u003e\n      \u003ctd\u003e1958.458\u003c/td\u003e\n      \u003ctd\u003e-99.99\u003c/td\u003e\n      \u003ctd\u003e317.10\u003c/td\u003e\n      \u003ctd\u003e314.85\u003c/td\u003e\n      \u003ctd\u003e-1\u003c/td\u003e\n    \u003c/tr\u003e\n    \u003ctr\u003e\n      \u003cth\u003e4\u003c/th\u003e\n      \u003ctd\u003e1958-07-01\u003c/td\u003e\n      \u003ctd\u003e1958.542\u003c/td\u003e\n      \u003ctd\u003e315.86\u003c/td\u003e\n      \u003ctd\u003e315.86\u003c/td\u003e\n      \u003ctd\u003e314.98\u003c/td\u003e\n      \u003ctd\u003e-1\u003c/td\u003e\n    \u003c/tr\u003e\n  \u003c/tbody\u003e\n\u003c/table\u003e\n\u003c/div\u003e"
          },
          "metadata": {},
          "output_type": "execute_result",
          "execution_count": 7
        }
      ],
      "source": "df.columns \u003d [\u0027date\u0027, \u0027decimal_date\u0027, \u0027average\u0027, \u0027interpolated\u0027, \u0027trend\u0027, \u0027num_days\u0027]\ndf.head()",
      "metadata": {
        "pycharm": {
          "metadata": false,
          "name": "#%%\n",
          "is_executing": false
        }
      }
    },
    {
      "cell_type": "code",
      "execution_count": 8,
      "outputs": [
        {
          "name": "stdout",
          "text": [
            "\u003cclass \u0027pandas.core.frame.DataFrame\u0027\u003e\nRangeIndex: 727 entries, 0 to 726\nData columns (total 6 columns):\ndate            727 non-null object\ndecimal_date    727 non-null object\naverage         727 non-null object\ninterpolated    727 non-null object\ntrend           727 non-null object\nnum_days        727 non-null object\ndtypes: object(6)\nmemory usage: 34.2+ KB\n"
          ],
          "output_type": "stream"
        }
      ],
      "source": "df.info()",
      "metadata": {
        "pycharm": {
          "metadata": false,
          "name": "#%%\n",
          "is_executing": false
        }
      }
    },
    {
      "cell_type": "code",
      "execution_count": 11,
      "outputs": [
        {
          "name": "stdout",
          "text": [
            "\u003cclass \u0027pandas.core.frame.DataFrame\u0027\u003e\nRangeIndex: 727 entries, 0 to 726\nData columns (total 6 columns):\ndate            727 non-null datetime64[ns]\ndecimal_date    727 non-null object\naverage         727 non-null float64\ninterpolated    727 non-null float64\ntrend           727 non-null float64\nnum_days        727 non-null float64\ndtypes: datetime64[ns](1), float64(4), object(1)\nmemory usage: 34.2+ KB\n"
          ],
          "output_type": "stream"
        }
      ],
      "source": "df[\u0027date\u0027] \u003d pd.to_datetime(df[\u0027date\u0027])\ndf[\u0027average\u0027] \u003d pd.to_numeric(df[\u0027average\u0027])\ndf[\u0027interpolated\u0027] \u003d pd.to_numeric(df[\u0027interpolated\u0027])\ndf[\u0027trend\u0027] \u003d pd.to_numeric(df[\u0027trend\u0027])\ndf[\u0027num_days\u0027] \u003d pd.to_numeric(df[\u0027num_days\u0027])\ndf.info()",
      "metadata": {
        "pycharm": {
          "metadata": false,
          "name": "#%%\n",
          "is_executing": false
        }
      }
    },
    {
      "cell_type": "code",
      "execution_count": 13,
      "outputs": [
        {
          "data": {
            "text/plain": "\u003cmatplotlib.figure.Figure at 0x11cb04940\u003e",
            "image/png": "[encoded data removed]"
          },
          "metadata": {
            "needs_background": "light"
          },
          "output_type": "display_data"
        }
      ],
      "source": "import matplotlib.pyplot as plt\nax \u003d plt.gca()\ndf.plot(subplots\u003dTrue, kind\u003d\u0027line\u0027, x\u003d\u0027date\u0027, y\u003d\u0027average\u0027, ax\u003dax, linewidth\u003d0.5)\ndf.plot(subplots\u003dTrue, kind\u003d\u0027line\u0027, x\u003d\u0027date\u0027, y\u003d\u0027interpolated\u0027, ax\u003dax, linewidth\u003d0.5, color\u003d\u0027red\u0027)\nplt.show()\n# plt.savefig(\u0027co2_ppm_rise.png\u0027, bbox_inches\u003d\u0027tight\u0027)",
      "metadata": {
        "pycharm": {
          "metadata": false,
          "name": "#%%\n",
          "is_executing": false
        }
      }
    },
    {
      "cell_type": "code",
      "execution_count": null,
      "outputs": [],
      "source": "\n",
      "metadata": {
        "pycharm": {
          "metadata": false,
          "name": "#%%\n"
        }
      }
    }
  ],
  "metadata": {
    "language_info": {
      "codemirror_mode": {
        "name": "ipython",
        "version": 2
      },
      "file_extension": ".py",
      "mimetype": "text/x-python",
      "name": "python",
      "nbconvert_exporter": "python",
      "pygments_lexer": "ipython2",
      "version": "2.7.6"
    },
    "kernelspec": {
      "name": "python3",
      "language": "python",
      "display_name": "Python 3"
    }
  },
  "nbformat": 4,
  "nbformat_minor": 0
}