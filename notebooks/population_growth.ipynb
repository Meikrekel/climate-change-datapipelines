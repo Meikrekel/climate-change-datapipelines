{
  "cells": [
    {
      "cell_type": "code",
      "execution_count": 4,
      "metadata": {
        "collapsed": true,
        "pycharm": {
          "is_executing": false
        }
      },
      "outputs": [],
      "source": "from datapackage import Package"
    },
    {
      "cell_type": "code",
      "execution_count": 5,
      "outputs": [],
      "source": "package \u003d Package(\u0027https://datahub.io/core/population/datapackage.json\u0027)",
      "metadata": {
        "pycharm": {
          "metadata": false,
          "name": "#%%\n",
          "is_executing": false
        }
      }
    },
    {
      "cell_type": "code",
      "execution_count": 6,
      "outputs": [
        {
          "name": "stdout",
          "text": [
            "validation_report\npopulation_csv\npopulation_json\npopulation_zip\npopulation_csv_preview\npopulation\n"
          ],
          "output_type": "stream"
        }
      ],
      "source": "for resource in package.resource_names:\n    print(resource)",
      "metadata": {
        "pycharm": {
          "metadata": false,
          "name": "#%%\n",
          "is_executing": false
        }
      }
    },
    {
      "cell_type": "code",
      "execution_count": 7,
      "outputs": [],
      "source": "population_resource \u003d package.get_resource(\u0027population_csv\u0027) ",
      "metadata": {
        "pycharm": {
          "metadata": false,
          "name": "#%%\n",
          "is_executing": false
        }
      }
    },
    {
      "cell_type": "code",
      "execution_count": 8,
      "outputs": [],
      "source": "population_data \u003d population_resource.read()",
      "metadata": {
        "pycharm": {
          "metadata": false,
          "name": "#%%\n",
          "is_executing": false
        }
      }
    },
    {
      "cell_type": "code",
      "execution_count": 10,
      "outputs": [],
      "source": "import pandas as pd\ndf \u003d pd.DataFrame(population_data)",
      "metadata": {
        "pycharm": {
          "metadata": false,
          "name": "#%%\n",
          "is_executing": false
        }
      }
    },
    {
      "cell_type": "code",
      "execution_count": 11,
      "outputs": [
        {
          "data": {
            "text/plain": "  country_name country_code  year population\n0   Arab World          ARB  1960   92490932\n1   Arab World          ARB  1961   95044497\n2   Arab World          ARB  1962   97682294\n3   Arab World          ARB  1963  100411076\n4   Arab World          ARB  1964  103239902",
            "text/html": "\u003cdiv\u003e\n\u003cstyle scoped\u003e\n    .dataframe tbody tr th:only-of-type {\n        vertical-align: middle;\n    }\n\n    .dataframe tbody tr th {\n        vertical-align: top;\n    }\n\n    .dataframe thead th {\n        text-align: right;\n    }\n\u003c/style\u003e\n\u003ctable border\u003d\"1\" class\u003d\"dataframe\"\u003e\n  \u003cthead\u003e\n    \u003ctr style\u003d\"text-align: right;\"\u003e\n      \u003cth\u003e\u003c/th\u003e\n      \u003cth\u003ecountry_name\u003c/th\u003e\n      \u003cth\u003ecountry_code\u003c/th\u003e\n      \u003cth\u003eyear\u003c/th\u003e\n      \u003cth\u003epopulation\u003c/th\u003e\n    \u003c/tr\u003e\n  \u003c/thead\u003e\n  \u003ctbody\u003e\n    \u003ctr\u003e\n      \u003cth\u003e0\u003c/th\u003e\n      \u003ctd\u003eArab World\u003c/td\u003e\n      \u003ctd\u003eARB\u003c/td\u003e\n      \u003ctd\u003e1960\u003c/td\u003e\n      \u003ctd\u003e92490932\u003c/td\u003e\n    \u003c/tr\u003e\n    \u003ctr\u003e\n      \u003cth\u003e1\u003c/th\u003e\n      \u003ctd\u003eArab World\u003c/td\u003e\n      \u003ctd\u003eARB\u003c/td\u003e\n      \u003ctd\u003e1961\u003c/td\u003e\n      \u003ctd\u003e95044497\u003c/td\u003e\n    \u003c/tr\u003e\n    \u003ctr\u003e\n      \u003cth\u003e2\u003c/th\u003e\n      \u003ctd\u003eArab World\u003c/td\u003e\n      \u003ctd\u003eARB\u003c/td\u003e\n      \u003ctd\u003e1962\u003c/td\u003e\n      \u003ctd\u003e97682294\u003c/td\u003e\n    \u003c/tr\u003e\n    \u003ctr\u003e\n      \u003cth\u003e3\u003c/th\u003e\n      \u003ctd\u003eArab World\u003c/td\u003e\n      \u003ctd\u003eARB\u003c/td\u003e\n      \u003ctd\u003e1963\u003c/td\u003e\n      \u003ctd\u003e100411076\u003c/td\u003e\n    \u003c/tr\u003e\n    \u003ctr\u003e\n      \u003cth\u003e4\u003c/th\u003e\n      \u003ctd\u003eArab World\u003c/td\u003e\n      \u003ctd\u003eARB\u003c/td\u003e\n      \u003ctd\u003e1964\u003c/td\u003e\n      \u003ctd\u003e103239902\u003c/td\u003e\n    \u003c/tr\u003e\n  \u003c/tbody\u003e\n\u003c/table\u003e\n\u003c/div\u003e"
          },
          "metadata": {},
          "output_type": "execute_result",
          "execution_count": 11
        }
      ],
      "source": "df.columns \u003d [\u0027country_name\u0027, \u0027country_code\u0027, \u0027year\u0027, \u0027population\u0027]\ndf.head()",
      "metadata": {
        "pycharm": {
          "metadata": false,
          "name": "#%%\n",
          "is_executing": false
        }
      }
    },
    {
      "cell_type": "code",
      "execution_count": 12,
      "outputs": [
        {
          "name": "stdout",
          "text": [
            "\u003cclass \u0027pandas.core.frame.DataFrame\u0027\u003e\nRangeIndex: 14885 entries, 0 to 14884\nData columns (total 4 columns):\ncountry_name    14885 non-null object\ncountry_code    14885 non-null object\nyear            14885 non-null int64\npopulation      14885 non-null object\ndtypes: int64(1), object(3)\nmemory usage: 465.2+ KB\n"
          ],
          "output_type": "stream"
        }
      ],
      "source": "df.info()",
      "metadata": {
        "pycharm": {
          "metadata": false,
          "name": "#%%\n",
          "is_executing": false
        }
      }
    },
    {
      "cell_type": "code",
      "execution_count": 14,
      "outputs": [
        {
          "name": "stdout",
          "text": [
            "\u003cclass \u0027pandas.core.frame.DataFrame\u0027\u003e\nRangeIndex: 14885 entries, 0 to 14884\nData columns (total 4 columns):\ncountry_name    14885 non-null object\ncountry_code    14885 non-null object\nyear            14885 non-null int64\npopulation      14885 non-null float64\ndtypes: float64(1), int64(1), object(2)\nmemory usage: 465.2+ KB\n"
          ],
          "output_type": "stream"
        }
      ],
      "source": "df[\u0027population\u0027] \u003d pd.to_numeric(df[\u0027population\u0027])\ndf.info()",
      "metadata": {
        "pycharm": {
          "metadata": false,
          "name": "#%%\n",
          "is_executing": false
        }
      }
    },
    {
      "cell_type": "code",
      "execution_count": 15,
      "outputs": [
        {
          "name": "stdout",
          "text": [
            "[\u0027Arab World\u0027 \u0027Caribbean small states\u0027 \u0027Central Europe and the Baltics\u0027\n \u0027Early-demographic dividend\u0027 \u0027East Asia \u0026 Pacific\u0027\n \u0027East Asia \u0026 Pacific (excluding high income)\u0027\n \u0027East Asia \u0026 Pacific (IDA \u0026 IBRD countries)\u0027 \u0027Euro area\u0027\n \u0027Europe \u0026 Central Asia\u0027 \u0027Europe \u0026 Central Asia (excluding high income)\u0027\n \u0027Europe \u0026 Central Asia (IDA \u0026 IBRD countries)\u0027 \u0027European Union\u0027\n \u0027Fragile and conflict affected situations\u0027\n \u0027Heavily indebted poor countries (HIPC)\u0027 \u0027High income\u0027 \u0027IBRD only\u0027\n \u0027IDA \u0026 IBRD total\u0027 \u0027IDA blend\u0027 \u0027IDA only\u0027 \u0027IDA total\u0027\n \u0027Late-demographic dividend\u0027 \u0027Latin America \u0026 Caribbean\u0027\n \u0027Latin America \u0026 Caribbean (excluding high income)\u0027\n \u0027Latin America \u0026 the Caribbean (IDA \u0026 IBRD countries)\u0027\n \u0027Least developed countries: UN classification\u0027 \u0027Low \u0026 middle income\u0027\n \u0027Low income\u0027 \u0027Lower middle income\u0027 \u0027Middle East \u0026 North Africa\u0027\n \u0027Middle East \u0026 North Africa (excluding high income)\u0027\n \u0027Middle East \u0026 North Africa (IDA \u0026 IBRD countries)\u0027 \u0027Middle income\u0027\n \u0027North America\u0027 \u0027OECD members\u0027 \u0027Other small states\u0027\n \u0027Pacific island small states\u0027 \u0027Post-demographic dividend\u0027\n \u0027Pre-demographic dividend\u0027 \u0027Small states\u0027 \u0027South Asia\u0027\n \u0027South Asia (IDA \u0026 IBRD)\u0027 \u0027Sub-Saharan Africa\u0027\n \u0027Sub-Saharan Africa (excluding high income)\u0027\n \u0027Sub-Saharan Africa (IDA \u0026 IBRD countries)\u0027 \u0027Upper middle income\u0027 \u0027World\u0027\n \u0027Afghanistan\u0027 \u0027Albania\u0027 \u0027Algeria\u0027 \u0027American Samoa\u0027 \u0027Andorra\u0027 \u0027Angola\u0027\n \u0027Antigua and Barbuda\u0027 \u0027Argentina\u0027 \u0027Armenia\u0027 \u0027Aruba\u0027 \u0027Australia\u0027 \u0027Austria\u0027\n \u0027Azerbaijan\u0027 \u0027Bahamas, The\u0027 \u0027Bahrain\u0027 \u0027Bangladesh\u0027 \u0027Barbados\u0027 \u0027Belarus\u0027\n \u0027Belgium\u0027 \u0027Belize\u0027 \u0027Benin\u0027 \u0027Bermuda\u0027 \u0027Bhutan\u0027 \u0027Bolivia\u0027\n \u0027Bosnia and Herzegovina\u0027 \u0027Botswana\u0027 \u0027Brazil\u0027 \u0027British Virgin Islands\u0027\n \u0027Brunei Darussalam\u0027 \u0027Bulgaria\u0027 \u0027Burkina Faso\u0027 \u0027Burundi\u0027 \u0027Cabo Verde\u0027\n \u0027Cambodia\u0027 \u0027Cameroon\u0027 \u0027Canada\u0027 \u0027Cayman Islands\u0027\n \u0027Central African Republic\u0027 \u0027Chad\u0027 \u0027Channel Islands\u0027 \u0027Chile\u0027 \u0027China\u0027\n \u0027Colombia\u0027 \u0027Comoros\u0027 \u0027Congo, Dem. Rep.\u0027 \u0027Congo, Rep.\u0027 \u0027Costa Rica\u0027\n \"Cote d\u0027Ivoire\" \u0027Croatia\u0027 \u0027Cuba\u0027 \u0027Curacao\u0027 \u0027Cyprus\u0027 \u0027Czech Republic\u0027\n \u0027Denmark\u0027 \u0027Djibouti\u0027 \u0027Dominica\u0027 \u0027Dominican Republic\u0027 \u0027Ecuador\u0027\n \u0027Egypt, Arab Rep.\u0027 \u0027El Salvador\u0027 \u0027Equatorial Guinea\u0027 \u0027Eritrea\u0027 \u0027Estonia\u0027\n \u0027Ethiopia\u0027 \u0027Faroe Islands\u0027 \u0027Fiji\u0027 \u0027Finland\u0027 \u0027France\u0027 \u0027French Polynesia\u0027\n \u0027Gabon\u0027 \u0027Gambia, The\u0027 \u0027Georgia\u0027 \u0027Germany\u0027 \u0027Ghana\u0027 \u0027Gibraltar\u0027 \u0027Greece\u0027\n \u0027Greenland\u0027 \u0027Grenada\u0027 \u0027Guam\u0027 \u0027Guatemala\u0027 \u0027Guinea\u0027 \u0027Guinea-Bissau\u0027\n \u0027Guyana\u0027 \u0027Haiti\u0027 \u0027Honduras\u0027 \u0027Hong Kong SAR, China\u0027 \u0027Hungary\u0027 \u0027Iceland\u0027\n \u0027India\u0027 \u0027Indonesia\u0027 \u0027Iran, Islamic Rep.\u0027 \u0027Iraq\u0027 \u0027Ireland\u0027 \u0027Isle of Man\u0027\n \u0027Israel\u0027 \u0027Italy\u0027 \u0027Jamaica\u0027 \u0027Japan\u0027 \u0027Jordan\u0027 \u0027Kazakhstan\u0027 \u0027Kenya\u0027\n \u0027Kiribati\u0027 \u0027Korea, Dem. People’s Rep.\u0027 \u0027Korea, Rep.\u0027 \u0027Kosovo\u0027 \u0027Kuwait\u0027\n \u0027Kyrgyz Republic\u0027 \u0027Lao PDR\u0027 \u0027Latvia\u0027 \u0027Lebanon\u0027 \u0027Lesotho\u0027 \u0027Liberia\u0027\n \u0027Libya\u0027 \u0027Liechtenstein\u0027 \u0027Lithuania\u0027 \u0027Luxembourg\u0027 \u0027Macao SAR, China\u0027\n \u0027Macedonia, FYR\u0027 \u0027Madagascar\u0027 \u0027Malawi\u0027 \u0027Malaysia\u0027 \u0027Maldives\u0027 \u0027Mali\u0027\n \u0027Malta\u0027 \u0027Marshall Islands\u0027 \u0027Mauritania\u0027 \u0027Mauritius\u0027 \u0027Mexico\u0027\n \u0027Micronesia, Fed. Sts.\u0027 \u0027Moldova\u0027 \u0027Monaco\u0027 \u0027Mongolia\u0027 \u0027Montenegro\u0027\n \u0027Morocco\u0027 \u0027Mozambique\u0027 \u0027Myanmar\u0027 \u0027Namibia\u0027 \u0027Nauru\u0027 \u0027Nepal\u0027 \u0027Netherlands\u0027\n \u0027New Caledonia\u0027 \u0027New Zealand\u0027 \u0027Nicaragua\u0027 \u0027Niger\u0027 \u0027Nigeria\u0027\n \u0027Northern Mariana Islands\u0027 \u0027Norway\u0027 \u0027Oman\u0027 \u0027Pakistan\u0027 \u0027Palau\u0027 \u0027Panama\u0027\n \u0027Papua New Guinea\u0027 \u0027Paraguay\u0027 \u0027Peru\u0027 \u0027Philippines\u0027 \u0027Poland\u0027 \u0027Portugal\u0027\n \u0027Puerto Rico\u0027 \u0027Qatar\u0027 \u0027Romania\u0027 \u0027Russian Federation\u0027 \u0027Rwanda\u0027 \u0027Samoa\u0027\n \u0027San Marino\u0027 \u0027Sao Tome and Principe\u0027 \u0027Saudi Arabia\u0027 \u0027Senegal\u0027 \u0027Serbia\u0027\n \u0027Seychelles\u0027 \u0027Sierra Leone\u0027 \u0027Singapore\u0027 \u0027Sint Maarten (Dutch part)\u0027\n \u0027Slovak Republic\u0027 \u0027Slovenia\u0027 \u0027Solomon Islands\u0027 \u0027Somalia\u0027 \u0027South Africa\u0027\n \u0027South Sudan\u0027 \u0027Spain\u0027 \u0027Sri Lanka\u0027 \u0027St. Kitts and Nevis\u0027 \u0027St. Lucia\u0027\n \u0027St. Martin (French part)\u0027 \u0027St. Vincent and the Grenadines\u0027 \u0027Sudan\u0027\n \u0027Suriname\u0027 \u0027Swaziland\u0027 \u0027Sweden\u0027 \u0027Switzerland\u0027 \u0027Syrian Arab Republic\u0027\n \u0027Tajikistan\u0027 \u0027Tanzania\u0027 \u0027Thailand\u0027 \u0027Timor-Leste\u0027 \u0027Togo\u0027 \u0027Tonga\u0027\n \u0027Trinidad and Tobago\u0027 \u0027Tunisia\u0027 \u0027Turkey\u0027 \u0027Turkmenistan\u0027\n \u0027Turks and Caicos Islands\u0027 \u0027Tuvalu\u0027 \u0027Uganda\u0027 \u0027Ukraine\u0027\n \u0027United Arab Emirates\u0027 \u0027United Kingdom\u0027 \u0027United States\u0027 \u0027Uruguay\u0027\n \u0027Uzbekistan\u0027 \u0027Vanuatu\u0027 \u0027Venezuela, RB\u0027 \u0027Vietnam\u0027 \u0027Virgin Islands (U.S.)\u0027\n \u0027West Bank and Gaza\u0027 \u0027Yemen, Rep.\u0027 \u0027Zambia\u0027 \u0027Zimbabwe\u0027]\n"
          ],
          "output_type": "stream"
        }
      ],
      "source": "print(df[\u0027country_name\u0027].unique())",
      "metadata": {
        "pycharm": {
          "metadata": false,
          "name": "#%%\n",
          "is_executing": false
        }
      }
    },
    {
      "cell_type": "code",
      "execution_count": 19,
      "outputs": [
        {
          "data": {
            "text/plain": "     country_name country_code  year    population\n2565        World          WLD  1960  3.034193e+09\n2566        World          WLD  1961  3.075115e+09\n2567        World          WLD  1962  3.127961e+09\n2568        World          WLD  1963  3.192794e+09\n2569        World          WLD  1964  3.258201e+09",
            "text/html": "\u003cdiv\u003e\n\u003cstyle scoped\u003e\n    .dataframe tbody tr th:only-of-type {\n        vertical-align: middle;\n    }\n\n    .dataframe tbody tr th {\n        vertical-align: top;\n    }\n\n    .dataframe thead th {\n        text-align: right;\n    }\n\u003c/style\u003e\n\u003ctable border\u003d\"1\" class\u003d\"dataframe\"\u003e\n  \u003cthead\u003e\n    \u003ctr style\u003d\"text-align: right;\"\u003e\n      \u003cth\u003e\u003c/th\u003e\n      \u003cth\u003ecountry_name\u003c/th\u003e\n      \u003cth\u003ecountry_code\u003c/th\u003e\n      \u003cth\u003eyear\u003c/th\u003e\n      \u003cth\u003epopulation\u003c/th\u003e\n    \u003c/tr\u003e\n  \u003c/thead\u003e\n  \u003ctbody\u003e\n    \u003ctr\u003e\n      \u003cth\u003e2565\u003c/th\u003e\n      \u003ctd\u003eWorld\u003c/td\u003e\n      \u003ctd\u003eWLD\u003c/td\u003e\n      \u003ctd\u003e1960\u003c/td\u003e\n      \u003ctd\u003e3.034193e+09\u003c/td\u003e\n    \u003c/tr\u003e\n    \u003ctr\u003e\n      \u003cth\u003e2566\u003c/th\u003e\n      \u003ctd\u003eWorld\u003c/td\u003e\n      \u003ctd\u003eWLD\u003c/td\u003e\n      \u003ctd\u003e1961\u003c/td\u003e\n      \u003ctd\u003e3.075115e+09\u003c/td\u003e\n    \u003c/tr\u003e\n    \u003ctr\u003e\n      \u003cth\u003e2567\u003c/th\u003e\n      \u003ctd\u003eWorld\u003c/td\u003e\n      \u003ctd\u003eWLD\u003c/td\u003e\n      \u003ctd\u003e1962\u003c/td\u003e\n      \u003ctd\u003e3.127961e+09\u003c/td\u003e\n    \u003c/tr\u003e\n    \u003ctr\u003e\n      \u003cth\u003e2568\u003c/th\u003e\n      \u003ctd\u003eWorld\u003c/td\u003e\n      \u003ctd\u003eWLD\u003c/td\u003e\n      \u003ctd\u003e1963\u003c/td\u003e\n      \u003ctd\u003e3.192794e+09\u003c/td\u003e\n    \u003c/tr\u003e\n    \u003ctr\u003e\n      \u003cth\u003e2569\u003c/th\u003e\n      \u003ctd\u003eWorld\u003c/td\u003e\n      \u003ctd\u003eWLD\u003c/td\u003e\n      \u003ctd\u003e1964\u003c/td\u003e\n      \u003ctd\u003e3.258201e+09\u003c/td\u003e\n    \u003c/tr\u003e\n  \u003c/tbody\u003e\n\u003c/table\u003e\n\u003c/div\u003e"
          },
          "metadata": {},
          "output_type": "execute_result",
          "execution_count": 19
        }
      ],
      "source": "df_globally \u003d df[df[\u0027country_name\u0027] \u003d\u003d \u0027World\u0027]\ndf_globally.head()",
      "metadata": {
        "pycharm": {
          "metadata": false,
          "name": "#%%\n",
          "is_executing": false
        }
      }
    },
    {
      "cell_type": "code",
      "execution_count": 24,
      "outputs": [
        {
          "data": {
            "text/plain": "\u003cmatplotlib.figure.Figure at 0x11d367be0\u003e",
            "image/png": "iVBORw0KGgoAAAANSUhEUgAAAW4AAAERCAYAAABb1k2bAAAABHNCSVQICAgIfAhkiAAAAAlwSFlzAAALEgAACxIB0t1+/AAAIABJREFUeJzt3Xl8VOXd9/HPjyQkEPZVZEfZouzRahWhLkghLq3aarVKsaK11qV1rYpdHnu3fXrX+/ZVHyt1qXupWFuXCrUWBAQEomyyCIQACUsggSQQss71/DEnGBHIhMzMmeX7fr3yyuTMmZnflRm+XLnOOddlzjlERCR+tPC7ABERaRoFt4hInFFwi4jEGQW3iEicUXCLiMQZBbeISJyJWHCb2bNmVmRma0LYt6+ZvW9mq8xsnpn1ilRdIiLxLpI97j8DE0Pc93fAC8654cAvgP+KVFEiIvEuYsHtnJsPlDTcZmanmNlsM8s1swVmNsS7Kwv4j3d7LnBZpOoSEYl30R7jngH8yDk3Brgb+H/e9pXAN73b3wDamlnnKNcmIhIXUqP1QmbWBvgq8JqZ1W9O977fDfzBzKYA84FCoC5atYmIxJOoBTfB3v1+59zII+9wzu3A63F7AX+Fc25/FGsTEYkbURsqcc6VAVvM7CoACxrh3e5iZvW1PAA8G626RETiTSRPB3wVWAwMNrMCM7sRuBa40cxWAp/y+UHI8cAGM/sM6A48Gqm6RETinWlaVxGR+KIrJ0VE4kxEDk526dLF9evXLxJPLSKSkHJzc/c657qGsm9Egrtfv34sX748Ek8tIpKQzGxrqPtqqEREJM4ouEVE4oyCW0QkzkTtysmamhoKCgqorKyM1ksmlYyMDHr16kVaWprfpYhIhEUtuAsKCmjbti39+vWjwVwlEgbOOYqLiykoKKB///5+lyMiERa1oZLKyko6d+6s0I4AM6Nz5876a0YkSUR1jFuhHTn63YokDx2cFBEJk9q6QFReR8EdJvn5+Zx++umN7vPKK68c/nn58uXcfvvtkS5NRCKsorqW383ZwJodZVF5PQV3FB0Z3NnZ2Tz++OM+ViQizbWmsJTfzt7Ad8/uy8jeHaLymkkT3Pn5+QwZMoRrr72WoUOHcuWVV1JRUcH777/PqFGjGDZsGFOnTqWqqgoIXrZ/7733MmzYMM4880w2bdoEwJQpU5g1a9bh523Tps1RX2vs2LGMHj2a0aNHs2jRIgDuv/9+FixYwMiRI3nssceYN28eOTk5AJSUlHD55ZczfPhwzjrrLFatWgXAz372M6ZOncr48eMZMGCAgl4kRgQCjucX5bM8v4TpOVl0b5cRtddOmuAG2LBhA7feeivr1q2jXbt2/P73v2fKlCnMnDmT1atXU1tby5NPPnl4//bt27N69Wpuu+027rzzzpBfp1u3brz33nt8/PHHzJw58/BwyK9//WvGjh3LihUruOuuu77wmEceeYRRo0axatUqfvWrX3H99dcfvm/9+vXMmTOHpUuX8vOf/5yamppm/iZEpDmKyiv5xdtrGdO3I1PO6U+LFtE9OSCaS5d9wWvLt1Ow71DYnq9Xx1Zcld37uPv07t2bc845B4DrrruOX/7yl/Tv359BgwYBcMMNN/DEE08cDulrrrnm8Pcjg/Z4ampquO2221ixYgUpKSl89tlnjT5m4cKFvP766wCcf/75FBcXU1YWHC+bPHky6enppKen061bN3bv3k2vXr1CrkdEwuffa3fzyfZ93DtxMK1b+hOhvgV3YyEbCUeeMtehQweKi4tD2r/+dmpqKoFA8MhxIBCgurr6S4977LHH6N69OytXriQQCJCR0bw/odLT0w/fTklJoba2tlnPJyJNd6i6jifmbmJYr/bcc/EQX2tJqqGSbdu2sXjxYgBeeeUVsrOzyc/PPzx+/eKLLzJu3LjD+8+cOfPw97PPPhsIjn3n5uYC8Oabbx512KK0tJQePXrQokULXnzxRerqggvWt23blvLy8qPWNnbsWF5++WUA5s2bR5cuXWjXrl04mi0izbSmsJTfzF7Pd8/uy8WnneR3Of71uP0wePBgnnjiCaZOnUpWVhaPP/44Z511FldddRW1tbWcccYZ3HLLLYf337dvH8OHDyc9PZ1XX30VgJtuuonLLruMESNGMHHiRDIzM7/0OrfeeitXXHEFL7zwwhf2GT58OCkpKYwYMYIpU6YwatSow4+pPwg5fPhwWrduzfPPPx/h34aINCYQcLywOB8zY3pOVtTHso8lImtOZmdnuyMXUli3bh1Dhw4N+2uFKj8/n5ycHNasWRPS/vWLQXTp0iXClYWP379jkUSyq7SSP36wmauye3Haye0j/npmluucyw5l36TqcYuIhGL2mp2s3VHGfROH0Kplit/lfEnSBHe/fv1C7m1DsIcuIsnlYFUtT8zdRHa/jvx4wmC/yzmmqAa3c06TIUVIJIa8RJLJyu37+fuKQm4dfypd26Y3/gAfRS24MzIyKC4u1tSuEVA/H3dzTzsUSUa1dQGe+zCfVi1TmJ6TFRf5FLXg7tWrFwUFBezZsydaL5lU6lfAEZHQbS+p4OkFeVx3Vl8Gdm/rdzkhi1pwp6WlaXUWEYkJzjne+KSQHfsP8dPJQ0lPjb0DkMeTNAcnRUQA9ldU88TcTXxtSDe+OTo+/0pVcItI0liwcQ8LN+3ltvMH0r5V/C6s3egl72Y22MxWNPgqM7PQp8oTEfFZZU0dj733GaWHanjg60PjOrQhhB63c24DMBLAzFKAQuCNCNclIhIWawpLmZVbwM3jBtCjfSu/ywmLpg6VXABsds5tjUQxIiLhUn+aX0Zai5iaZyQcmhrcVwOvHu0OM5sGTAPo06dPM8sSETlxG3eX89KSrXz37H6c2u3Lq1TFu5AnmTKzlsAO4DTn3O7j7Xu0SaZERCKtLuB4cXE+tQHHlK/2IzUlfmaujtQkU18HPm4stEVE/JC/9yDPfbiFb5/Rh6yTE3su+6YE9zUcY5hERMQvzjn+smw7JQereXByFi1T46eXfaJCCm4zywQuAm6ObDkiIqGrnzP70pEnM7pPR7/LiZqQgts5dxDoHOFaRERC9tbKHWzcXe7ror1+Sfy/KUQkoeyvqObRd9bSvlUaP56QfKENuuRdROLIvA1FLNpczG1fG0j71vF99WNzqMctIjGvorqW383ZwMGqOn46aWhShzaoxy0iMS536z7eWrmDH4w/he7ttFgIKLhFJEZV1wZ4emEenTNb8sgl8bEyTbQouEUk5qzfVcarH21j6rn96ds50+9yYo6CW0RiRl3A8cLifJyD6ZecRkoCTQwVTgpuEYkJ24oreGZhHlef2YehPRL7kvXmUnCLiK+cc8xctp3ig9Vxuf6jHxTcIuKbHfsPMWN+XtJdst5cCm4RiTrnHH/7uJCCfYe4b+IQWrVUL7spFNwiElVF5ZX8cV4eF5/WnSvGxOcq635TcItIVDjneGvVTjbuLucnEwaRma74OVH6zYlIxO09UMUf523ma0O6cemEwX6XE/cU3CISUe+s2sm6nWXcceFA2mYk9xwj4aJJpkQkIooPVPHoO2tpk5HK3RcPVmiHkXrcIhJ2767eyerCUn50wUDaKbDDTj1uEQmb+l526/RU7p04RKEdIepxi0hY/HP1Tj7doV52NKjHLSLNstfrZWemp3LPxeplR4N63CJyQhqel337BTpjJJoU3CLSZEXllcz4IE/nZftEwS0iIXPO8Y8VO8jbe5C7LtLVj37Rb11EQrKzNDiT38WnncTlo3r6XU5SU3CLyHE55/jr8u3sLqvi3os1k18sUHCLyDFtK67g2Q+3cOnIk/n2GX38Lkc8Cm4R+ZK6gOOVpdsor6zhgUlDtCpNjFFwi8gXbCo6wIuL87kquzen92zvdzlyFApuEQGgpi7A84vyAXgoJ4u0FF2fF6sU3CLC2h1lzFy2je+e3ZdTu7X1uxxphIJbJIlV1dbxzMIttElPZfolp5HSwvwuSUKg4BZJUiu27+fvnxTyvXP60bdzpt/lSBMouEWSTGVNHX+an0fXtulMz8mihXrZcUfBLZJEluWX8M6qndx03gB6dmjldzlyghTcIkmgorqWpz7Io0+n1jxySRZm6mXHMwW3SIJbvLmY99bu5uZxA+jeLsPvciQMQjpR08w6mNksM1tvZuvM7OxIFyYizXOgqpb//tcGdpdV8nDOUIV2Agm1x/2/wGzn3JVm1hJoHcGaRKSZFm3ay/vri7h53AC6tVVgJ5pGg9vM2gPnAVMAnHPVQHVkyxKRE3GgqpanPtjMwO5teWjyUI1lJ6hQetz9gT3Ac2Y2AsgF7nDOHWy4k5lNA6YB9OmjWcREok297OQRyhh3KjAaeNI5Nwo4CNx/5E7OuRnOuWznXHbXrl3DXKaIHMtBbyx778FqHpo8VKGdBELpcRcABc65j7yfZ3GU4BaR6Ks/Y+SW8eplJ5NGe9zOuV3AdjOrXxH0AmBtRKsSkeM6VF3HY+99xq6yQzyco152sgn1rJIfAS97Z5TkAd+LXEkicjy5W0t4a+VObh43gB7tdfVjMgopuJ1zK4DsCNciIsdRP8dI93YZuvoxyenKSZE4sKawlNeWb+f7YwfQu5Muo0h2Cm6RGFZbF+DZD7eQkZbCI5ecppn8BFBwi8SsTUUHeGFxPtdrVRo5goJbJMYEAo6XP9pKRXUdD2vtRzkKBbdIDNleUsHTC/K0wrocl4JbJAY455iVW8Cu0koemDSUjLQUv0uSGKbgFvFZUXklT87bzKRhPbgqu7ff5UgcUHCL+GjOp7tYVbCfuycMJjNd/xwlNDrqIeKDA1W1/Hb2elLMuOfiIQptaRJ9WkSiLHfrPt5ZtZMfjD+Frm3T/S5H4pCCWyRKauoCPL1gC50y03g4R4scyIlTcItEwcbd5by4ZCvfO6c//btk+l2OxDkFt0gEBQKOlz7aSlVNgOk5WaTqYhoJAwW3SIQU7j/EjA82c+WY3gzrpYtpJHwU3CJh5pzjzZU7yNtzUBfTSEQouEXCqLSihj/M3ci4Qd24bGRPv8uRBKXgFgmTDzftZe76Im47/1Q6tG7pdzmSwBTcIs1UWVPHUx/k0a9Lax6crNP8JPIU3CLNsHZHGTOXbeOm8wbQq6NWppHoUHCLnIC6gOP5Rfm0MJh+yWmkaGUaiSIFt0gTbSuu4JmFeVzzlT4MOamd3+VIElJwi4TIOcfrHxeyq/QQP508lPRUneYn/lBwi4Rgf0U1f/jPJiacdhJXjunldzmS5BTcIo1YklfM++t286PzB9K+dZrf5YgouEWOpaYuwJ8W5NGtbQY/naTT/CR2KLhFjmJbcQVPL8xjylf7MaBrG7/LEfkCBbfIEf65eicbdx/goclZtEzVbH4Se/SpFPFU1tTxuzkbaJnSgjsuHKjQlpilHrcIkLfnAH9elM/N406hZ4dWfpcjclwKbkl6/1hRyPaSCh7OySJNCx1IHNCnVJJWRXUtv5m9nvat0rjt/IEKbYkb6nFLUlq3s4yZy7Zz6/hT6NYuw+9yRJpEwS1JxTnHq0u3U1Fdy/ScLFpociiJQwpuSRqlFTU8/p+NTBp2EmP6dvK7HJETpuCWpLA8v4R31+zidl22LglAwS0JrS7geO7DLWSmp/KQVqeRBBFScJtZPlAO1AG1zrnsSBYlEg5FZZU8MXcTV5/Zh6E9NG+2JI6m9Li/5pzbG7FKRMJo7oYilm4p4b6vD6F1S/1hKYlFJ65KQqmqreN//72R8spa7puo0JbEFOqn2gH/MjMHPOWcm3HkDmY2DZgG0KdPn/BVKBKi+svWbxo7gN6dtHCvJK5Qg/tc51yhmXUD3jOz9c65+Q138MJ8BkB2drYLc50ix+Sc441PCtlZWqnL1iUphPQJd84Vet+LgDeAMyNZlEioyipr+PW76zmpXQY//NqpCm1JCo32uM0sE2jhnCv3bk8AfhHxykQasSy/hHdX7+K280+lU2ZLv8sRiZpQhkq6A29457+mAq8452ZHtCqR46hfUqxLm3QeztG52ZJ8Gg1u51weMCIKtYg0asvegzz34RYtKSZJTedKSVxwzvFabgF7D1TpAKQkPQW3xLyiskqe/GAzk4f14FvZvf0uR8R3Cm6JaW+v2sGGXeXcPWEwmen6uIqArpyUGLW/oppf/XMdbTPS+IlCW+QL9K9BYs7c9UUsySvmh+NP1RSsIkehHrfEjPqLaapqAzwwaahCW+QY1OOWmPDBZ3tYuHEPt4w7hc5t0v0uRySmqcctvjpQVcv/nbOeg1W1PDg5S6EtEgL1uMU3izbt5f31Rfxg/Cl0UWCLhEzBLVF3sKqWpz7YzCnd2mg5MZEToOCWqFq6pYTZa3Zxy7gBdGuX4Xc5InFJwS1Rcai6jhnz8+jdqZUmhhJpJgW3RFzu1hLeWrmTaecN4OQOrfwuRyTuKbglYipr6njqgzxO7pDBI5dkqZctEiYKbomI3K37eGvlDvWyRSJAwS1hVVFdy5/mb6FHe/WyRSJFwS1hs3DjXuZuKOKmsQM4qb3OGBGJFAW3NFtpRQ1/nL+Z009ur/OyRaJAwS0nzDnHu2t2sbqwlGljB9BRC/aKRIXmKpETUrj/EL98ex1tM1K5b+IQhbZIFKnHLU1SF3C8/NFWyitruefiwbRqmeJ3SSJJR8EtIVtTWMpry7dz9Zl9GNqjnd/liCQtBbc06mBVLc8s3ELnNi2ZfslppLTQwUcRPym45bjeX7ebJXnFfH/sALprUiiRmKCDk3JUu0or+T9vrwXgwclZCm2RGKIet3xBXcDx6tJtlBys5scTBtG6pT4iIrFG/yrlsE+27eMfK3bwrezeZJ2sg48isUrBLeyvqObpBVvo27k103OyaKGDjyIxTcGdxAIBx98+KSR/70FuPLe/LqIRiRMK7iRVf072ZaN6cuWYXn6XIyJNoOBOMqWHanhm4RZOapehc7JF4pSCO0nUD4ts2XuAqef0p3ObdL9LEpETpOBOAmsKS5mVW8ClI0/WsIhIAlBwJ7D6YZEe7TN4OCdLwyIiCULBnYACAccbnxSyec8BbjxXwyIiiSbk4DazFGA5UOicy4lcSdIc63aW8Zel27h0ZE+u0LCISEJqSo/7DmAdoEvqYlD9DH4dW6fxcE4WqSmahkYkUYUU3GbWC5gMPAr8OKIVSZP969NdLMsv4cZztUivSDIItVv2P8C9QCCCtUgTBZcPW0taSgsenJyl0BZJEo32uM0sByhyzuWa2fjj7DcNmAbQp0+fsBUoX1YXcLy0ZCvllTXcPUHLh4kkm1CGSs4BLjWzSUAG0M7MXnLOXddwJ+fcDGAGQHZ2tgt7pQJo+TARCSG4nXMPAA8AeD3uu48MbYm8iupanl6whU6ZWj5MJNnpPO44MG9DEQs27uX7Y/vTo30rv8sREZ81Kbidc/OAeRGpRL6kqLySP83PI7tfJx7OyfK7HBGJEepxx6BAwPHX5dvZWVrJHRcOok263iYR+ZwSIcZ8trucVz7axjdH9+TqM3V2joh8mYI7RlTW1PHsh1tonZbCQ5OH6spHETkmBXcMWLy5mH+t3cXUc/rTu1Nrv8sRkRin4PbR/opqnpqfx9Ae7Ziek4WZTvETkcYpuH3gnOPtVTtZu7OMm88bQIfWWqRXREKngdQoC84vso7OmS25b+IQhbaINJl63FFSF3C8snQbpRXV3DtxMBlpml9ERE6MgjsK1u8q4y9Lt3PlmF6c3rO93+WISJxTcEfQoeo6nlmYR/tWaTrFT0TCRsEdIXPXF/Hhpr3cqPlFRCTM1AUMs91llTz6zlrqAo6HcrIU2iISdupxh0ltXYBXl25jX0UNd144iEzNLyIiEaJ0CYMV2/fz908K+fYZvbW4gYhEnIK7GUoP1fD0gjx6d2rN9JwsWmhxAxGJAgX3CQgEHK9/XMCWvQf5/tgBdMrURTQiEj0K7ibK3bqPt1bu4PJRPbkqu7ff5YhIElJwh2h3WSXPfriFISe11bCIiPhKwd2Iypo6XlqylaraAD86f6BWoxER3ymFjsE5x7trdvHJtn1cd1Zf+nbO9LskERFAwX1Un+4oZVZuARdldefByVqkV0Rii4K7gb0Hqvjzh/n07tSKhyZnkaJxbBGJQQpuoLo2wMsfbaW8spZp4wbQLiPN75JERI4pqYPbOcd/1hexaHMx3/lKH07p2sbvkkREGpW0wb1xdzmvLt3OeYO68HCOxrFFJH4kXXAXlVXywuKt9OiQwQOThpCmObJFJM4kTXAfrKrlxSVbqQs4bh43gLYaxxaROJXwwV1bF2BWbgHbSir47tl9NT+2iMS9hA1u5xxzPt3Fsvx9XDG6F1ef2cfvkkREwiIhg/ujvGJmf7qLi7K668CjiCSchAru9bvKmLW8gNF9OzI9JwszXUAjIoknIYJ7e0kFL3+0jb6dW3Pf13WmiIgktrgO7uIDVbyweCtt0lO5/YJTad0yrpsjIhKSuEy6PeVV/HX5dmrrHFO+2o+OWoFGRJJIXAX3pztKeXvVTtq3SuNb2b3p2jbd75JERKIu5oO7pi7A++uKWJ5fQtbJ7bjzwoGkp6b4XZaIiG8aDW4zywDmA+ne/rOcc49EsqjaugBL8kpYnLeXFmacN6grD04eqrNEREQIrcddBZzvnDtgZmnAQjN71zm3JNzFfLa7nDdX7ADgrAGduevCQaTqDBERkS9oNLidcw444P2Y5n25SBTTtU06d1w4UKfziYgcR0gJaWYpZrYCKALec859dJR9ppnZcjNbvmfPnhMqpmNmS4W2iEgjQkpJ51ydc24k0As408xOP8o+M5xz2c657K5du4a7ThER8TSpe+uc2w/MBSZGphwREWlMo8FtZl3NrIN3uxVwEbA+0oWJiMjRhXJWSQ/geTNLIRj0f3XOvR3ZskRE5FhCOatkFTAqCrWIiEgIdAqHiEicUXCLiMQZBbeISJyx4IWRYX5Ssz3A1hN8eBdgbxjLiRVqV/xJ1LYlarsgvtvW1zkX0kUwEQnu5jCz5c65bL/rCDe1K/4katsStV2Q2G1rSEMlIiJxRsEtIhJnYjG4Z/hdQISoXfEnUduWqO2CxG7bYTE3xi0iIscXiz1uERE5DgW3iEiciXhwm9mzZlZkZmsabBthZovNbLWZvWVm7RrcN9y771Pv/gxv+xjv501m9rjFwAKUTWmbmV1rZisafAXMbKR3X0y1rYntSjOz573t68zsgQaPmWhmG7x23e9HWxpqYrtamtlz3vaVZja+wWNi7f3qbWZzzWyt9+/mDm97JzN7z8w2et87etvNq3uTma0ys9ENnusGb/+NZnaDX21qUE9T2zbEez+rzOzuI54rpj6PzeKci+gXcB4wGljTYNsyYJx3eyrwS+92KrAKGOH93BlI8W4vBc4CDHgX+Hqkaw9n24543DBgc4OfY6ptTXzPvgP8xbvdGsgH+gEpwGZgANASWAlkxVG7fgg8593uBuQCLWL0/eoBjPZutwU+A7KA3wL3e9vvB37j3Z7k1W1eOz7ytncC8rzvHb3bHeOsbd2AM4BHgbsbPE/MfR6b8xXxHrdzbj5QcsTmQQRXjgd4D7jCuz0BWOWcW+k9ttg5V2dmPYB2zrklLvguvABcHunaG9PEtjV0DfAXgFhsWxPb5YBMM0sFWgHVQBlwJrDJOZfnnKsm2N7LIl378TSxXVnAf7zHFQH7gewYfb92Ouc+9m6XA+uAngR/3897uz3P53VeBrzggpYAHbx2XUxwacIS59w+gr8PXxdNaWrbnHNFzrllQM0RTxVzn8fm8GuM+1M+/6VdBfT2bg8CnJnNMbOPzexeb3tPoKDB4wu8bbHoWG1r6NvAq97teGnbsdo1CzgI7AS2Ab9zzpUQbMP2Bo+Pt3atBC41s1Qz6w+M8e6L6ffLzPoRnIb5I6C7c26nd9cuoLt3+1jvTUy/ZyG27Vhium1N5VdwTwVuNbNcgn/+VHvbU4FzgWu9798wswv8KfGEHattAJjZV4AK59yaoz04hh2rXWcCdcDJQH/gJ2Y2wJ8ST8ix2vUswX/cy4H/ARYRbGfMMrM2wOvAnc65sob3eX8dxO25v4ncthMRygo4YeecW09wWAQzGwRM9u4qAOY75/Z69/2T4JjkSwQXKq7XCyiMWsFNcJy21buaz3vbEGxHzLftOO36DjDbOVcDFJnZh0A2wd5Nw7824qpdzrla4K76/cxsEcHx1X3E4PtlZmkEg+1l59zfvM27zayHc26nNxRS5G0v5OjvTSEw/ojt8yJZdyia2LZjOVab45IvPW4z6+Z9bwE8BPzRu2sOMMzMWntjpuOAtd6fRGVmdpZ3BP964B8+lN6o47Stftu38Ma3ITiGRxy07Tjt2gac792XSfBg13qCB/0Gmll/M2tJ8D+sN6Ndd2OO1S7vM5jp3b4IqHXOxeRn0avjGWCdc+73De56E6g/M+QGPq/zTeB67+ySs4BSr11zgAlm1tE7S2OCt803J9C2Y4mLz2PIIn30k2DvcifBgwUFwI3AHQR7L58Bv8a7gtPb/zqC445rgN822J7tbdsM/KHhY/z6OoG2jQeWHOV5YqptTWkX0AZ4zXvP1gL3NHieSd7+m4EH4+n9InhmzAaCB8P+TXDKzVh9v84lOFSwCljhfU0ieFbW+8BGrw2dvP0NeMKrfzWQ3eC5pgKbvK/vxcB71tS2neS9t2UEDygXEDyYHHOfx+Z86ZJ3EZE4oysnRUTijIJbRCTOKLhFROKMgltEJM4ouEVE4oyCW0Qkzii4RY7CzFL8rkHkWBTcEvfM7BdmdmeDnx81szvM7B4zW+bNOf3zBvf/3cxyvfmdpzXYfsDM/tvMVgJnR7kZIiFTcEsieJbgpef1l65fTXDGuIEEJ8EaCYwxs/O8/ac658YQvALydjPr7G3PJDg39Qjn3MJoNkCkKXyZZEoknJxz+WZWbGajCE7v+QnByfQneLcheGn+QIJzb99uZt/wtvf2thcTnP3v9WjWLnIiFNySKJ4GphCcq+JZ4ALgv5xzTzXcyYJLkF0InO2cqzCzeUCGd3elcy6mp24VAQ2VSOJ4g+BqLWcQnNFuDjDVm8cZM+vpzQSRKqbCAAAAg0lEQVTYHtjnhfYQgrMZisQV9bglITjnqs1sLrDf6zX/y8yGAouDM4NygODMk7OBW8xsHcHZ/5b4VbPIidLsgJIQvIOSHwNXOec2+l2PSCRpqETinpllEZw/+n2FtiQD9bhFROKMetwiInFGwS0iEmcU3CIicUbBLSISZxTcIiJx5v8DryfAfgQ+phUAAAAASUVORK5CYII\u003d\n"
          },
          "metadata": {
            "needs_background": "light"
          },
          "output_type": "display_data"
        }
      ],
      "source": "import matplotlib.pyplot as plt\nax \u003d plt.gca()\ndf_globally.plot(subplots\u003dTrue, kind\u003d\u0027line\u0027, x\u003d\u0027year\u0027, y\u003d\u0027population\u0027, ax\u003dax, linewidth\u003d0.5)\n# plt.show()\nplt.savefig(\u0027population_growth_globally.png\u0027, bbox_inches\u003d\u0027tight\u0027)",
      "metadata": {
        "pycharm": {
          "metadata": false,
          "name": "#%%\n",
          "is_executing": false
        }
      }
    },
    {
      "cell_type": "code",
      "execution_count": null,
      "outputs": [],
      "source": "\n",
      "metadata": {
        "pycharm": {
          "metadata": false,
          "name": "#%%\n"
        }
      }
    }
  ],
  "metadata": {
    "language_info": {
      "codemirror_mode": {
        "name": "ipython",
        "version": 2
      },
      "file_extension": ".py",
      "mimetype": "text/x-python",
      "name": "python",
      "nbconvert_exporter": "python",
      "pygments_lexer": "ipython2",
      "version": "2.7.6"
    },
    "kernelspec": {
      "name": "python3",
      "language": "python",
      "display_name": "Python 3"
    }
  },
  "nbformat": 4,
  "nbformat_minor": 0
}